{
 "cells": [
  {
   "cell_type": "markdown",
   "id": "51a19ace",
   "metadata": {},
   "source": [
    "# Homework 5 - The Marvel Universe!"
   ]
  },
  {
   "cell_type": "code",
   "execution_count": null,
   "id": "873d6dbc",
   "metadata": {},
   "outputs": [],
   "source": [
    "# importing libraries that we needed."
   ]
  },
  {
   "cell_type": "code",
   "execution_count": 2,
   "id": "74814882",
   "metadata": {},
   "outputs": [],
   "source": [
    "import pandas as pd\n",
    "import matplotlib.pyplot as plt\n",
    "import networkx as nx\n",
    "from tkinter import _flatten"
   ]
  },
  {
   "cell_type": "markdown",
   "id": "dfcda859",
   "metadata": {},
   "source": [
    "## 1. Data"
   ]
  },
  {
   "cell_type": "markdown",
   "id": "c118fa94",
   "metadata": {},
   "source": [
    "We imported the datasets for the questions in ADM HW-5."
   ]
  },
  {
   "cell_type": "code",
   "execution_count": 3,
   "id": "577a1599",
   "metadata": {},
   "outputs": [],
   "source": [
    "nodes=pd.read_csv('nodes.csv')"
   ]
  },
  {
   "cell_type": "code",
   "execution_count": 4,
   "id": "ce565594",
   "metadata": {},
   "outputs": [],
   "source": [
    "edges=pd.read_csv('edges.csv')"
   ]
  },
  {
   "cell_type": "code",
   "execution_count": 5,
   "id": "b7b32790",
   "metadata": {},
   "outputs": [],
   "source": [
    "hero_net=pd.read_csv('hero-network.csv')"
   ]
  },
  {
   "cell_type": "code",
   "execution_count": 7,
   "id": "b6da14cc",
   "metadata": {},
   "outputs": [
    {
     "data": {
      "text/html": [
       "<div>\n",
       "<style scoped>\n",
       "    .dataframe tbody tr th:only-of-type {\n",
       "        vertical-align: middle;\n",
       "    }\n",
       "\n",
       "    .dataframe tbody tr th {\n",
       "        vertical-align: top;\n",
       "    }\n",
       "\n",
       "    .dataframe thead th {\n",
       "        text-align: right;\n",
       "    }\n",
       "</style>\n",
       "<table border=\"1\" class=\"dataframe\">\n",
       "  <thead>\n",
       "    <tr style=\"text-align: right;\">\n",
       "      <th></th>\n",
       "      <th>node</th>\n",
       "      <th>type</th>\n",
       "    </tr>\n",
       "  </thead>\n",
       "  <tbody>\n",
       "    <tr>\n",
       "      <th>0</th>\n",
       "      <td>2001 10</td>\n",
       "      <td>comic</td>\n",
       "    </tr>\n",
       "    <tr>\n",
       "      <th>1</th>\n",
       "      <td>2001 8</td>\n",
       "      <td>comic</td>\n",
       "    </tr>\n",
       "    <tr>\n",
       "      <th>2</th>\n",
       "      <td>2001 9</td>\n",
       "      <td>comic</td>\n",
       "    </tr>\n",
       "    <tr>\n",
       "      <th>3</th>\n",
       "      <td>24-HOUR MAN/EMMANUEL</td>\n",
       "      <td>hero</td>\n",
       "    </tr>\n",
       "    <tr>\n",
       "      <th>4</th>\n",
       "      <td>3-D MAN/CHARLES CHAN</td>\n",
       "      <td>hero</td>\n",
       "    </tr>\n",
       "  </tbody>\n",
       "</table>\n",
       "</div>"
      ],
      "text/plain": [
       "                   node   type\n",
       "0               2001 10  comic\n",
       "1                2001 8  comic\n",
       "2                2001 9  comic\n",
       "3  24-HOUR MAN/EMMANUEL   hero\n",
       "4  3-D MAN/CHARLES CHAN   hero"
      ]
     },
     "execution_count": 7,
     "metadata": {},
     "output_type": "execute_result"
    }
   ],
   "source": [
    "#Contains two columns (node, type), indicating the nodes' name and type (comic, hero).\n",
    "\n",
    "nodes.head(5)"
   ]
  },
  {
   "cell_type": "code",
   "execution_count": 8,
   "id": "35fcdb49",
   "metadata": {},
   "outputs": [
    {
     "data": {
      "text/html": [
       "<div>\n",
       "<style scoped>\n",
       "    .dataframe tbody tr th:only-of-type {\n",
       "        vertical-align: middle;\n",
       "    }\n",
       "\n",
       "    .dataframe tbody tr th {\n",
       "        vertical-align: top;\n",
       "    }\n",
       "\n",
       "    .dataframe thead th {\n",
       "        text-align: right;\n",
       "    }\n",
       "</style>\n",
       "<table border=\"1\" class=\"dataframe\">\n",
       "  <thead>\n",
       "    <tr style=\"text-align: right;\">\n",
       "      <th></th>\n",
       "      <th>hero</th>\n",
       "      <th>comic</th>\n",
       "    </tr>\n",
       "  </thead>\n",
       "  <tbody>\n",
       "    <tr>\n",
       "      <th>0</th>\n",
       "      <td>24-HOUR MAN/EMMANUEL</td>\n",
       "      <td>AA2 35</td>\n",
       "    </tr>\n",
       "    <tr>\n",
       "      <th>1</th>\n",
       "      <td>3-D MAN/CHARLES CHAN</td>\n",
       "      <td>AVF 4</td>\n",
       "    </tr>\n",
       "    <tr>\n",
       "      <th>2</th>\n",
       "      <td>3-D MAN/CHARLES CHAN</td>\n",
       "      <td>AVF 5</td>\n",
       "    </tr>\n",
       "    <tr>\n",
       "      <th>3</th>\n",
       "      <td>3-D MAN/CHARLES CHAN</td>\n",
       "      <td>COC 1</td>\n",
       "    </tr>\n",
       "    <tr>\n",
       "      <th>4</th>\n",
       "      <td>3-D MAN/CHARLES CHAN</td>\n",
       "      <td>H2 251</td>\n",
       "    </tr>\n",
       "  </tbody>\n",
       "</table>\n",
       "</div>"
      ],
      "text/plain": [
       "                   hero   comic\n",
       "0  24-HOUR MAN/EMMANUEL  AA2 35\n",
       "1  3-D MAN/CHARLES CHAN   AVF 4\n",
       "2  3-D MAN/CHARLES CHAN   AVF 5\n",
       "3  3-D MAN/CHARLES CHAN   COC 1\n",
       "4  3-D MAN/CHARLES CHAN  H2 251"
      ]
     },
     "execution_count": 8,
     "metadata": {},
     "output_type": "execute_result"
    }
   ],
   "source": [
    "#Contains two columns (hero, comic), indicating which comics the heroes appear in.\n",
    "\n",
    "edges.head(5)"
   ]
  },
  {
   "cell_type": "code",
   "execution_count": null,
   "id": "57d4a8af",
   "metadata": {},
   "outputs": [],
   "source": []
  },
  {
   "cell_type": "code",
   "execution_count": 9,
   "id": "129015f5",
   "metadata": {},
   "outputs": [
    {
     "data": {
      "text/html": [
       "<div>\n",
       "<style scoped>\n",
       "    .dataframe tbody tr th:only-of-type {\n",
       "        vertical-align: middle;\n",
       "    }\n",
       "\n",
       "    .dataframe tbody tr th {\n",
       "        vertical-align: top;\n",
       "    }\n",
       "\n",
       "    .dataframe thead th {\n",
       "        text-align: right;\n",
       "    }\n",
       "</style>\n",
       "<table border=\"1\" class=\"dataframe\">\n",
       "  <thead>\n",
       "    <tr style=\"text-align: right;\">\n",
       "      <th></th>\n",
       "      <th>hero1</th>\n",
       "      <th>hero2</th>\n",
       "    </tr>\n",
       "  </thead>\n",
       "  <tbody>\n",
       "    <tr>\n",
       "      <th>0</th>\n",
       "      <td>LITTLE, ABNER</td>\n",
       "      <td>PRINCESS ZANDA</td>\n",
       "    </tr>\n",
       "    <tr>\n",
       "      <th>1</th>\n",
       "      <td>LITTLE, ABNER</td>\n",
       "      <td>BLACK PANTHER/T'CHAL</td>\n",
       "    </tr>\n",
       "    <tr>\n",
       "      <th>2</th>\n",
       "      <td>BLACK PANTHER/T'CHAL</td>\n",
       "      <td>PRINCESS ZANDA</td>\n",
       "    </tr>\n",
       "    <tr>\n",
       "      <th>3</th>\n",
       "      <td>LITTLE, ABNER</td>\n",
       "      <td>PRINCESS ZANDA</td>\n",
       "    </tr>\n",
       "    <tr>\n",
       "      <th>4</th>\n",
       "      <td>LITTLE, ABNER</td>\n",
       "      <td>BLACK PANTHER/T'CHAL</td>\n",
       "    </tr>\n",
       "  </tbody>\n",
       "</table>\n",
       "</div>"
      ],
      "text/plain": [
       "                  hero1                 hero2\n",
       "0         LITTLE, ABNER        PRINCESS ZANDA\n",
       "1         LITTLE, ABNER  BLACK PANTHER/T'CHAL\n",
       "2  BLACK PANTHER/T'CHAL        PRINCESS ZANDA\n",
       "3         LITTLE, ABNER        PRINCESS ZANDA\n",
       "4         LITTLE, ABNER  BLACK PANTHER/T'CHAL"
      ]
     },
     "execution_count": 9,
     "metadata": {},
     "output_type": "execute_result"
    }
   ],
   "source": [
    "#Contains the network of heroes who have appeared together in the comics.\n",
    "\n",
    "hero_net.head(5)"
   ]
  },
  {
   "cell_type": "code",
   "execution_count": 38,
   "id": "92f4a75b",
   "metadata": {},
   "outputs": [
    {
     "data": {
      "text/html": [
       "<div>\n",
       "<style scoped>\n",
       "    .dataframe tbody tr th:only-of-type {\n",
       "        vertical-align: middle;\n",
       "    }\n",
       "\n",
       "    .dataframe tbody tr th {\n",
       "        vertical-align: top;\n",
       "    }\n",
       "\n",
       "    .dataframe thead th {\n",
       "        text-align: right;\n",
       "    }\n",
       "</style>\n",
       "<table border=\"1\" class=\"dataframe\">\n",
       "  <thead>\n",
       "    <tr style=\"text-align: right;\">\n",
       "      <th></th>\n",
       "      <th>hero</th>\n",
       "      <th>comic</th>\n",
       "    </tr>\n",
       "  </thead>\n",
       "  <tbody>\n",
       "    <tr>\n",
       "      <th>75528</th>\n",
       "      <td>SPIDER-MAN CLONE/BEN</td>\n",
       "      <td>A 400</td>\n",
       "    </tr>\n",
       "    <tr>\n",
       "      <th>75529</th>\n",
       "      <td>SPIDER-MAN CLONE/BEN</td>\n",
       "      <td>ASM 149</td>\n",
       "    </tr>\n",
       "    <tr>\n",
       "      <th>75530</th>\n",
       "      <td>SPIDER-MAN CLONE/BEN</td>\n",
       "      <td>ASM 151</td>\n",
       "    </tr>\n",
       "    <tr>\n",
       "      <th>75531</th>\n",
       "      <td>SPIDER-MAN CLONE/BEN</td>\n",
       "      <td>ASM 393</td>\n",
       "    </tr>\n",
       "    <tr>\n",
       "      <th>75532</th>\n",
       "      <td>SPIDER-MAN CLONE/BEN</td>\n",
       "      <td>ASM 394</td>\n",
       "    </tr>\n",
       "    <tr>\n",
       "      <th>...</th>\n",
       "      <td>...</td>\n",
       "      <td>...</td>\n",
       "    </tr>\n",
       "    <tr>\n",
       "      <th>77294</th>\n",
       "      <td>SPIDER-MAN/PETER PARKER</td>\n",
       "      <td>XFOR 4</td>\n",
       "    </tr>\n",
       "    <tr>\n",
       "      <th>77295</th>\n",
       "      <td>SPIDER-MAN/PETER PARKER</td>\n",
       "      <td>XM 35</td>\n",
       "    </tr>\n",
       "    <tr>\n",
       "      <th>77296</th>\n",
       "      <td>SPIDER-MAN/PETER PARKER</td>\n",
       "      <td>XM 37</td>\n",
       "    </tr>\n",
       "    <tr>\n",
       "      <th>77297</th>\n",
       "      <td>SPIDER-MAN/PETER PARKER</td>\n",
       "      <td>XM 38</td>\n",
       "    </tr>\n",
       "    <tr>\n",
       "      <th>77298</th>\n",
       "      <td>SPIDER-MAN/PETER PARKER</td>\n",
       "      <td>XM 51</td>\n",
       "    </tr>\n",
       "  </tbody>\n",
       "</table>\n",
       "<p>1771 rows × 2 columns</p>\n",
       "</div>"
      ],
      "text/plain": [
       "                          hero    comic\n",
       "75528     SPIDER-MAN CLONE/BEN    A 400\n",
       "75529     SPIDER-MAN CLONE/BEN  ASM 149\n",
       "75530     SPIDER-MAN CLONE/BEN  ASM 151\n",
       "75531     SPIDER-MAN CLONE/BEN  ASM 393\n",
       "75532     SPIDER-MAN CLONE/BEN  ASM 394\n",
       "...                        ...      ...\n",
       "77294  SPIDER-MAN/PETER PARKER   XFOR 4\n",
       "77295  SPIDER-MAN/PETER PARKER    XM 35\n",
       "77296  SPIDER-MAN/PETER PARKER    XM 37\n",
       "77297  SPIDER-MAN/PETER PARKER    XM 38\n",
       "77298  SPIDER-MAN/PETER PARKER    XM 51\n",
       "\n",
       "[1771 rows x 2 columns]"
      ]
     },
     "execution_count": 38,
     "metadata": {},
     "output_type": "execute_result"
    }
   ],
   "source": [
    "#SLACK \n",
    "#in the edges.csv file the name of Spider-Man was mistyped, \n",
    "#so you will not get the “hero” type attribute for the node if you don’t correct the typo manually\n",
    "\n",
    "edges.loc[edges['hero'].str.contains(\"Spider-M\", case=False)]"
   ]
  },
  {
   "cell_type": "markdown",
   "id": "f3de01ab",
   "metadata": {},
   "source": [
    "## Data preprocessing"
   ]
  },
  {
   "cell_type": "markdown",
   "id": "60d8ad58",
   "metadata": {},
   "source": [
    "#### 1-To overcome inconsistencies in the data, \n",
    "\n",
    "#### a-We deleted extra spaces at the end of some heroes' names in \"hero_network.csv\" file, compared to their names in \"edges.csv\"."
   ]
  },
  {
   "cell_type": "code",
   "execution_count": 10,
   "id": "b8729a87",
   "metadata": {},
   "outputs": [
    {
     "data": {
      "text/html": [
       "<div>\n",
       "<style scoped>\n",
       "    .dataframe tbody tr th:only-of-type {\n",
       "        vertical-align: middle;\n",
       "    }\n",
       "\n",
       "    .dataframe tbody tr th {\n",
       "        vertical-align: top;\n",
       "    }\n",
       "\n",
       "    .dataframe thead th {\n",
       "        text-align: right;\n",
       "    }\n",
       "</style>\n",
       "<table border=\"1\" class=\"dataframe\">\n",
       "  <thead>\n",
       "    <tr style=\"text-align: right;\">\n",
       "      <th></th>\n",
       "      <th>hero1</th>\n",
       "      <th>hero2</th>\n",
       "    </tr>\n",
       "  </thead>\n",
       "  <tbody>\n",
       "    <tr>\n",
       "      <th>0</th>\n",
       "      <td>LITTLE, ABNER</td>\n",
       "      <td>PRINCESS ZANDA</td>\n",
       "    </tr>\n",
       "    <tr>\n",
       "      <th>1</th>\n",
       "      <td>LITTLE, ABNER</td>\n",
       "      <td>BLACK PANTHER/T'CHAL</td>\n",
       "    </tr>\n",
       "    <tr>\n",
       "      <th>2</th>\n",
       "      <td>BLACK PANTHER/T'CHAL</td>\n",
       "      <td>PRINCESS ZANDA</td>\n",
       "    </tr>\n",
       "    <tr>\n",
       "      <th>3</th>\n",
       "      <td>LITTLE, ABNER</td>\n",
       "      <td>PRINCESS ZANDA</td>\n",
       "    </tr>\n",
       "    <tr>\n",
       "      <th>4</th>\n",
       "      <td>LITTLE, ABNER</td>\n",
       "      <td>BLACK PANTHER/T'CHAL</td>\n",
       "    </tr>\n",
       "  </tbody>\n",
       "</table>\n",
       "</div>"
      ],
      "text/plain": [
       "                  hero1                 hero2\n",
       "0         LITTLE, ABNER        PRINCESS ZANDA\n",
       "1         LITTLE, ABNER  BLACK PANTHER/T'CHAL\n",
       "2  BLACK PANTHER/T'CHAL        PRINCESS ZANDA\n",
       "3         LITTLE, ABNER        PRINCESS ZANDA\n",
       "4         LITTLE, ABNER  BLACK PANTHER/T'CHAL"
      ]
     },
     "execution_count": 10,
     "metadata": {},
     "output_type": "execute_result"
    }
   ],
   "source": [
    "hero_net.head()"
   ]
  },
  {
   "cell_type": "code",
   "execution_count": 11,
   "id": "4d3a447b",
   "metadata": {},
   "outputs": [
    {
     "name": "stdout",
     "output_type": "stream",
     "text": [
      "in the column 'hero1', Number of rows that has an extra space at the end of the hero name is 75735\n"
     ]
    }
   ],
   "source": [
    "print(\"in the column 'hero1', Number of rows that has an extra space at the end of the hero name is\",len(hero_net.loc[hero_net['hero1'].str.endswith(' ')]))"
   ]
  },
  {
   "cell_type": "code",
   "execution_count": 12,
   "id": "2cd21704",
   "metadata": {},
   "outputs": [
    {
     "name": "stdout",
     "output_type": "stream",
     "text": [
      "in the column 'hero2', Number of rows that has an extra space at the end of the hero name is 73556\n"
     ]
    }
   ],
   "source": [
    "print(\"in the column 'hero2', Number of rows that has an extra space at the end of the hero name is\",len(hero_net.loc[hero_net['hero2'].str.endswith(' ')]))"
   ]
  },
  {
   "cell_type": "markdown",
   "id": "cc19106f",
   "metadata": {},
   "source": [
    "We created a new dataframe after preprocessing, named as \"hero_net_pp\"."
   ]
  },
  {
   "cell_type": "code",
   "execution_count": 13,
   "id": "8f55b8cb",
   "metadata": {},
   "outputs": [],
   "source": [
    "hero_net_pp = pd.DataFrame(columns=['hero1', 'hero2'])\n",
    "\n",
    "hero_net_pp['hero1']=hero_net['hero1'].str.rstrip(' ')\n",
    "hero_net_pp['hero2']=hero_net['hero2'].str.rstrip(' ')"
   ]
  },
  {
   "cell_type": "code",
   "execution_count": 14,
   "id": "7b782560",
   "metadata": {},
   "outputs": [
    {
     "name": "stdout",
     "output_type": "stream",
     "text": [
      "in the column 'hero1', Number of rows that has an extra space at the end of the hero name is 0\n"
     ]
    }
   ],
   "source": [
    "print(\"in the column 'hero1', Number of rows that has an extra space at the end of the hero name is\",len(hero_net_pp.loc[hero_net_pp['hero1'].str.endswith(' ')]))"
   ]
  },
  {
   "cell_type": "code",
   "execution_count": 15,
   "id": "d886183d",
   "metadata": {},
   "outputs": [
    {
     "name": "stdout",
     "output_type": "stream",
     "text": [
      "in the column 'hero2', Number of rows that has an extra space at the end of the hero name is 0\n"
     ]
    }
   ],
   "source": [
    "print(\"in the column 'hero2', Number of rows that has an extra space at the end of the hero name is\",len(hero_net_pp.loc[hero_net_pp['hero2'].str.endswith(' ')]))"
   ]
  },
  {
   "cell_type": "markdown",
   "id": "5323c7df",
   "metadata": {},
   "source": [
    "#### b- We deleted extra \"/\" at the end of some heroes' names in \"hero_network.csv\" file, compared to their names in \"edges.csv\""
   ]
  },
  {
   "cell_type": "code",
   "execution_count": 16,
   "id": "07811ee1",
   "metadata": {},
   "outputs": [
    {
     "name": "stdout",
     "output_type": "stream",
     "text": [
      "in the column 'hero1', Number of rows that has an extra space at the end of the hero name is 15323\n"
     ]
    }
   ],
   "source": [
    "print(\"in the column 'hero1', Number of rows that has an extra space at the end of the hero name is\",len(hero_net_pp.loc[hero_net_pp['hero1'].str.endswith('/')]))"
   ]
  },
  {
   "cell_type": "code",
   "execution_count": 17,
   "id": "2fa8a070",
   "metadata": {},
   "outputs": [
    {
     "name": "stdout",
     "output_type": "stream",
     "text": [
      "in the column 'hero2', Number of rows that has an extra space at the end of the hero name is 15520\n"
     ]
    }
   ],
   "source": [
    "print(\"in the column 'hero2', Number of rows that has an extra space at the end of the hero name is\",len(hero_net_pp.loc[hero_net_pp['hero2'].str.endswith('/')]))"
   ]
  },
  {
   "cell_type": "code",
   "execution_count": 18,
   "id": "72f11ddc",
   "metadata": {},
   "outputs": [],
   "source": [
    "hero_net_pp['hero1']=hero_net_pp['hero1'].str.rstrip('/')\n",
    "hero_net_pp['hero2']=hero_net_pp['hero2'].str.rstrip('/')"
   ]
  },
  {
   "cell_type": "code",
   "execution_count": 19,
   "id": "49249736",
   "metadata": {},
   "outputs": [
    {
     "name": "stdout",
     "output_type": "stream",
     "text": [
      "in the column 'hero1', Number of rows that has an extra space at the end of the hero name is 0\n",
      "in the column 'hero2', Number of rows that has an extra space at the end of the hero name is 0\n"
     ]
    }
   ],
   "source": [
    "print(\"in the column 'hero1', Number of rows that has an extra space at the end of the hero name is\",len(hero_net_pp.loc[hero_net_pp['hero1'].str.endswith('/')]))\n",
    "print(\"in the column 'hero2', Number of rows that has an extra space at the end of the hero name is\",len(hero_net_pp.loc[hero_net_pp['hero2'].str.endswith('/')]))"
   ]
  },
  {
   "cell_type": "markdown",
   "id": "d06c349d",
   "metadata": {},
   "source": [
    "#### c- The hero name 'SPIDER-MAN/PETER PAR' in 'hero-network.csv' (due to a string length limit), has been changed  as 'SPIDER-MAN/PETER PARKER' as like as in 'edges.csv' "
   ]
  },
  {
   "cell_type": "code",
   "execution_count": 20,
   "id": "06eee969",
   "metadata": {},
   "outputs": [
    {
     "data": {
      "text/html": [
       "<div>\n",
       "<style scoped>\n",
       "    .dataframe tbody tr th:only-of-type {\n",
       "        vertical-align: middle;\n",
       "    }\n",
       "\n",
       "    .dataframe tbody tr th {\n",
       "        vertical-align: top;\n",
       "    }\n",
       "\n",
       "    .dataframe thead th {\n",
       "        text-align: right;\n",
       "    }\n",
       "</style>\n",
       "<table border=\"1\" class=\"dataframe\">\n",
       "  <thead>\n",
       "    <tr style=\"text-align: right;\">\n",
       "      <th></th>\n",
       "      <th>hero1</th>\n",
       "      <th>hero2</th>\n",
       "    </tr>\n",
       "  </thead>\n",
       "  <tbody>\n",
       "    <tr>\n",
       "      <th>398</th>\n",
       "      <td>SPIDER-MAN/PETER PAR</td>\n",
       "      <td>FIRESTAR/ANGELICA JO</td>\n",
       "    </tr>\n",
       "    <tr>\n",
       "      <th>399</th>\n",
       "      <td>SPIDER-MAN/PETER PAR</td>\n",
       "      <td>THUNDERBALL/DR. ELIO</td>\n",
       "    </tr>\n",
       "    <tr>\n",
       "      <th>400</th>\n",
       "      <td>SPIDER-MAN/PETER PAR</td>\n",
       "      <td>NAMORITA/NITA PRENTI</td>\n",
       "    </tr>\n",
       "    <tr>\n",
       "      <th>401</th>\n",
       "      <td>SPIDER-MAN/PETER PAR</td>\n",
       "      <td>SPEEDBALL/ROBBIE BAL</td>\n",
       "    </tr>\n",
       "    <tr>\n",
       "      <th>402</th>\n",
       "      <td>SPIDER-MAN/PETER PAR</td>\n",
       "      <td>HULK/DR. ROBERT BRUC</td>\n",
       "    </tr>\n",
       "    <tr>\n",
       "      <th>...</th>\n",
       "      <td>...</td>\n",
       "      <td>...</td>\n",
       "    </tr>\n",
       "    <tr>\n",
       "      <th>574356</th>\n",
       "      <td>SPIDER-MAN/PETER PAR</td>\n",
       "      <td>MAGMA/AMARA AQUILLA</td>\n",
       "    </tr>\n",
       "    <tr>\n",
       "      <th>574357</th>\n",
       "      <td>SPIDER-MAN/PETER PAR</td>\n",
       "      <td>SCARLET WITCH/WANDA</td>\n",
       "    </tr>\n",
       "    <tr>\n",
       "      <th>574358</th>\n",
       "      <td>SPIDER-MAN/PETER PAR</td>\n",
       "      <td>MAGIK/ILLYANA RASPUT</td>\n",
       "    </tr>\n",
       "    <tr>\n",
       "      <th>574359</th>\n",
       "      <td>SPIDER-MAN/PETER PAR</td>\n",
       "      <td>CAPTAIN AMERICA</td>\n",
       "    </tr>\n",
       "    <tr>\n",
       "      <th>574360</th>\n",
       "      <td>SPIDER-MAN/PETER PAR</td>\n",
       "      <td>WARLOCK III</td>\n",
       "    </tr>\n",
       "  </tbody>\n",
       "</table>\n",
       "<p>6652 rows × 2 columns</p>\n",
       "</div>"
      ],
      "text/plain": [
       "                       hero1                 hero2\n",
       "398     SPIDER-MAN/PETER PAR  FIRESTAR/ANGELICA JO\n",
       "399     SPIDER-MAN/PETER PAR  THUNDERBALL/DR. ELIO\n",
       "400     SPIDER-MAN/PETER PAR  NAMORITA/NITA PRENTI\n",
       "401     SPIDER-MAN/PETER PAR  SPEEDBALL/ROBBIE BAL\n",
       "402     SPIDER-MAN/PETER PAR  HULK/DR. ROBERT BRUC\n",
       "...                      ...                   ...\n",
       "574356  SPIDER-MAN/PETER PAR   MAGMA/AMARA AQUILLA\n",
       "574357  SPIDER-MAN/PETER PAR   SCARLET WITCH/WANDA\n",
       "574358  SPIDER-MAN/PETER PAR  MAGIK/ILLYANA RASPUT\n",
       "574359  SPIDER-MAN/PETER PAR       CAPTAIN AMERICA\n",
       "574360  SPIDER-MAN/PETER PAR           WARLOCK III\n",
       "\n",
       "[6652 rows x 2 columns]"
      ]
     },
     "execution_count": 20,
     "metadata": {},
     "output_type": "execute_result"
    }
   ],
   "source": [
    "hero_net_pp.loc[hero_net_pp['hero1'] == 'SPIDER-MAN/PETER PAR'] "
   ]
  },
  {
   "cell_type": "code",
   "execution_count": 21,
   "id": "c99bbfdf",
   "metadata": {},
   "outputs": [],
   "source": [
    "hero_net_pp = hero_net_pp.apply(lambda x: x.replace({'SPIDER-MAN/PETER PAR':'SPIDER-MAN/PETER PARKER'}, regex=True))"
   ]
  },
  {
   "cell_type": "code",
   "execution_count": 22,
   "id": "895386fb",
   "metadata": {},
   "outputs": [
    {
     "data": {
      "text/html": [
       "<div>\n",
       "<style scoped>\n",
       "    .dataframe tbody tr th:only-of-type {\n",
       "        vertical-align: middle;\n",
       "    }\n",
       "\n",
       "    .dataframe tbody tr th {\n",
       "        vertical-align: top;\n",
       "    }\n",
       "\n",
       "    .dataframe thead th {\n",
       "        text-align: right;\n",
       "    }\n",
       "</style>\n",
       "<table border=\"1\" class=\"dataframe\">\n",
       "  <thead>\n",
       "    <tr style=\"text-align: right;\">\n",
       "      <th></th>\n",
       "      <th>hero1</th>\n",
       "      <th>hero2</th>\n",
       "    </tr>\n",
       "  </thead>\n",
       "  <tbody>\n",
       "    <tr>\n",
       "      <th>397</th>\n",
       "      <td>NOVA/RICHARD RIDER</td>\n",
       "      <td>SPIDER-MAN/PETER PARKER</td>\n",
       "    </tr>\n",
       "    <tr>\n",
       "      <th>1505</th>\n",
       "      <td>STACY, PAUL</td>\n",
       "      <td>SPIDER-MAN/PETER PARKER</td>\n",
       "    </tr>\n",
       "    <tr>\n",
       "      <th>1510</th>\n",
       "      <td>STACY, JILL</td>\n",
       "      <td>SPIDER-MAN/PETER PARKER</td>\n",
       "    </tr>\n",
       "    <tr>\n",
       "      <th>1514</th>\n",
       "      <td>STACY, ARTHUR</td>\n",
       "      <td>SPIDER-MAN/PETER PARKER</td>\n",
       "    </tr>\n",
       "    <tr>\n",
       "      <th>1517</th>\n",
       "      <td>PARKER, MAY</td>\n",
       "      <td>SPIDER-MAN/PETER PARKER</td>\n",
       "    </tr>\n",
       "    <tr>\n",
       "      <th>...</th>\n",
       "      <td>...</td>\n",
       "      <td>...</td>\n",
       "    </tr>\n",
       "    <tr>\n",
       "      <th>574271</th>\n",
       "      <td>NIGHTCRAWLER/KURT WA</td>\n",
       "      <td>SPIDER-MAN/PETER PARKER</td>\n",
       "    </tr>\n",
       "    <tr>\n",
       "      <th>574291</th>\n",
       "      <td>SUNSPOT/ROBERTO DACO</td>\n",
       "      <td>SPIDER-MAN/PETER PARKER</td>\n",
       "    </tr>\n",
       "    <tr>\n",
       "      <th>574310</th>\n",
       "      <td>STORM/ORORO MUNROE S</td>\n",
       "      <td>SPIDER-MAN/PETER PARKER</td>\n",
       "    </tr>\n",
       "    <tr>\n",
       "      <th>574328</th>\n",
       "      <td>MIRAGE II/DANIELLE M</td>\n",
       "      <td>SPIDER-MAN/PETER PARKER</td>\n",
       "    </tr>\n",
       "    <tr>\n",
       "      <th>574345</th>\n",
       "      <td>SUNDER</td>\n",
       "      <td>SPIDER-MAN/PETER PARKER</td>\n",
       "    </tr>\n",
       "  </tbody>\n",
       "</table>\n",
       "<p>7065 rows × 2 columns</p>\n",
       "</div>"
      ],
      "text/plain": [
       "                       hero1                    hero2\n",
       "397       NOVA/RICHARD RIDER  SPIDER-MAN/PETER PARKER\n",
       "1505             STACY, PAUL  SPIDER-MAN/PETER PARKER\n",
       "1510             STACY, JILL  SPIDER-MAN/PETER PARKER\n",
       "1514           STACY, ARTHUR  SPIDER-MAN/PETER PARKER\n",
       "1517             PARKER, MAY  SPIDER-MAN/PETER PARKER\n",
       "...                      ...                      ...\n",
       "574271  NIGHTCRAWLER/KURT WA  SPIDER-MAN/PETER PARKER\n",
       "574291  SUNSPOT/ROBERTO DACO  SPIDER-MAN/PETER PARKER\n",
       "574310  STORM/ORORO MUNROE S  SPIDER-MAN/PETER PARKER\n",
       "574328  MIRAGE II/DANIELLE M  SPIDER-MAN/PETER PARKER\n",
       "574345                SUNDER  SPIDER-MAN/PETER PARKER\n",
       "\n",
       "[7065 rows x 2 columns]"
      ]
     },
     "execution_count": 22,
     "metadata": {},
     "output_type": "execute_result"
    }
   ],
   "source": [
    "#to check the dataset, after we changed heroes names. \n",
    "hero_net_pp.loc[hero_net_pp['hero2'] == 'SPIDER-MAN/PETER PARKER'] "
   ]
  },
  {
   "cell_type": "markdown",
   "id": "38915322",
   "metadata": {},
   "source": [
    "#### 2- Some entries in the 'hero-network.csv' have the same hero in both columns. In the graph, because a self-loop makes no sense in this network, We removed those from the dataset."
   ]
  },
  {
   "cell_type": "code",
   "execution_count": 23,
   "id": "af23d743",
   "metadata": {},
   "outputs": [
    {
     "data": {
      "text/plain": [
       "hero1                 hero2               \n",
       "PATRIOT/JEFF MACE     PATRIOT/JEFF MACE       1275\n",
       "MISS AMERICA/MADELIN  MISS AMERICA/MADELIN     672\n",
       "BUCKY/BUCKY BARNES    BUCKY/BUCKY BARNES       120\n",
       "CAPTAIN AMERICA       CAPTAIN AMERICA          120\n",
       "WHIZZER/ROBERT L. FR  WHIZZER/ROBERT L. FR      37\n",
       "RAVONNA LEXUS RENSLA  RAVONNA LEXUS RENSLA       2\n",
       "BLUE DIAMOND/PROFESS  BLUE DIAMOND/PROFESS       1\n",
       "DR. STRANGE DOPPELGA  DR. STRANGE DOPPELGA       1\n",
       "FIN/PETER NOBLE       FIN/PETER NOBLE            1\n",
       "SILVER SCORPION/ELIS  SILVER SCORPION/ELIS       1\n",
       "SUB-MARINER/NAMOR MA  SUB-MARINER/NAMOR MA       1\n",
       "VINDICATOR II DOPPEL  VINDICATOR II DOPPEL       1\n",
       "dtype: int64"
      ]
     },
     "execution_count": 23,
     "metadata": {},
     "output_type": "execute_result"
    }
   ],
   "source": [
    "hero_net_pp.loc[hero_net_pp['hero1'] == hero_net_pp['hero2']].value_counts() "
   ]
  },
  {
   "cell_type": "code",
   "execution_count": 24,
   "id": "650db9a0",
   "metadata": {},
   "outputs": [],
   "source": [
    "#Removing self loop\n",
    "hero_net_pp.drop(hero_net_pp.index[(hero_net_pp[\"hero1\"] == hero_net_pp['hero2'] )],axis=0,inplace=True)"
   ]
  },
  {
   "cell_type": "code",
   "execution_count": 25,
   "id": "eefa3940",
   "metadata": {},
   "outputs": [
    {
     "data": {
      "text/plain": [
       "Series([], dtype: int64)"
      ]
     },
     "execution_count": 25,
     "metadata": {},
     "output_type": "execute_result"
    }
   ],
   "source": [
    "hero_net_pp.loc[hero_net_pp['hero1'] == hero_net_pp['hero2']].value_counts() "
   ]
  },
  {
   "cell_type": "markdown",
   "id": "396266a4",
   "metadata": {},
   "source": [
    "### Graphs setup"
   ]
  },
  {
   "cell_type": "markdown",
   "id": "f5e3f77b",
   "metadata": {},
   "source": [
    "#### First graph\n",
    "Will be constructed using the data stored in the 'hero-network.csv' file, in which an edge between two heroes can be found if they have appeared in the same comic together. The number of edges between two heroes represents the number of times they have collaborated in different comics. \n",
    "\n",
    "##### The graph should be considered weighted and undirected. \n",
    "It is up to you to decide which metric to use to calculate the weights, but we anticipate that the cost will be lower for heroes with more collaborations. Please specify which metric you used to select the weights in the report.\n"
   ]
  },
  {
   "cell_type": "raw",
   "id": "b5e5cc78",
   "metadata": {},
   "source": [
    "IMPORTANT: The main functions for each functionality should be written from scratch in the backend part. Nevertheless, you can use the data structures provided by networkx (such as closeness_centrality, betweenness_centrality, pagerank, or any other function that can help you as an intermediate step for your main functionalities)."
   ]
  },
  {
   "cell_type": "code",
   "execution_count": 44,
   "id": "4cd52668",
   "metadata": {},
   "outputs": [],
   "source": [
    "#import networkx as nx\n",
    "G = nx.Graph()"
   ]
  },
  {
   "cell_type": "code",
   "execution_count": 28,
   "id": "63faf7b6",
   "metadata": {},
   "outputs": [
    {
     "data": {
      "text/html": [
       "<div>\n",
       "<style scoped>\n",
       "    .dataframe tbody tr th:only-of-type {\n",
       "        vertical-align: middle;\n",
       "    }\n",
       "\n",
       "    .dataframe tbody tr th {\n",
       "        vertical-align: top;\n",
       "    }\n",
       "\n",
       "    .dataframe thead th {\n",
       "        text-align: right;\n",
       "    }\n",
       "</style>\n",
       "<table border=\"1\" class=\"dataframe\">\n",
       "  <thead>\n",
       "    <tr style=\"text-align: right;\">\n",
       "      <th></th>\n",
       "      <th>hero1</th>\n",
       "      <th>hero2</th>\n",
       "    </tr>\n",
       "  </thead>\n",
       "  <tbody>\n",
       "    <tr>\n",
       "      <th>398</th>\n",
       "      <td>SPIDER-MAN/PETER PAR</td>\n",
       "      <td>FIRESTAR/ANGELICA JO</td>\n",
       "    </tr>\n",
       "    <tr>\n",
       "      <th>399</th>\n",
       "      <td>SPIDER-MAN/PETER PAR</td>\n",
       "      <td>THUNDERBALL/DR. ELIO</td>\n",
       "    </tr>\n",
       "    <tr>\n",
       "      <th>400</th>\n",
       "      <td>SPIDER-MAN/PETER PAR</td>\n",
       "      <td>NAMORITA/NITA PRENTI</td>\n",
       "    </tr>\n",
       "    <tr>\n",
       "      <th>401</th>\n",
       "      <td>SPIDER-MAN/PETER PAR</td>\n",
       "      <td>SPEEDBALL/ROBBIE BAL</td>\n",
       "    </tr>\n",
       "    <tr>\n",
       "      <th>402</th>\n",
       "      <td>SPIDER-MAN/PETER PAR</td>\n",
       "      <td>HULK/DR. ROBERT BRUC</td>\n",
       "    </tr>\n",
       "    <tr>\n",
       "      <th>...</th>\n",
       "      <td>...</td>\n",
       "      <td>...</td>\n",
       "    </tr>\n",
       "    <tr>\n",
       "      <th>574356</th>\n",
       "      <td>SPIDER-MAN/PETER PAR</td>\n",
       "      <td>MAGMA/AMARA AQUILLA/</td>\n",
       "    </tr>\n",
       "    <tr>\n",
       "      <th>574357</th>\n",
       "      <td>SPIDER-MAN/PETER PAR</td>\n",
       "      <td>SCARLET WITCH/WANDA</td>\n",
       "    </tr>\n",
       "    <tr>\n",
       "      <th>574358</th>\n",
       "      <td>SPIDER-MAN/PETER PAR</td>\n",
       "      <td>MAGIK/ILLYANA RASPUT</td>\n",
       "    </tr>\n",
       "    <tr>\n",
       "      <th>574359</th>\n",
       "      <td>SPIDER-MAN/PETER PAR</td>\n",
       "      <td>CAPTAIN AMERICA</td>\n",
       "    </tr>\n",
       "    <tr>\n",
       "      <th>574360</th>\n",
       "      <td>SPIDER-MAN/PETER PAR</td>\n",
       "      <td>WARLOCK III</td>\n",
       "    </tr>\n",
       "  </tbody>\n",
       "</table>\n",
       "<p>6652 rows × 2 columns</p>\n",
       "</div>"
      ],
      "text/plain": [
       "                       hero1                 hero2\n",
       "398     SPIDER-MAN/PETER PAR  FIRESTAR/ANGELICA JO\n",
       "399     SPIDER-MAN/PETER PAR  THUNDERBALL/DR. ELIO\n",
       "400     SPIDER-MAN/PETER PAR  NAMORITA/NITA PRENTI\n",
       "401     SPIDER-MAN/PETER PAR  SPEEDBALL/ROBBIE BAL\n",
       "402     SPIDER-MAN/PETER PAR  HULK/DR. ROBERT BRUC\n",
       "...                      ...                   ...\n",
       "574356  SPIDER-MAN/PETER PAR  MAGMA/AMARA AQUILLA/\n",
       "574357  SPIDER-MAN/PETER PAR  SCARLET WITCH/WANDA \n",
       "574358  SPIDER-MAN/PETER PAR  MAGIK/ILLYANA RASPUT\n",
       "574359  SPIDER-MAN/PETER PAR       CAPTAIN AMERICA\n",
       "574360  SPIDER-MAN/PETER PAR           WARLOCK III\n",
       "\n",
       "[6652 rows x 2 columns]"
      ]
     },
     "execution_count": 28,
     "metadata": {},
     "output_type": "execute_result"
    }
   ],
   "source": [
    "hero_net_pp.loc[hero_net_pp['hero1'] == 'SPIDER-MAN/PETER PAR'] "
   ]
  },
  {
   "cell_type": "markdown",
   "id": "c3649e2f",
   "metadata": {},
   "source": [
    "#### Second graph \n",
    "The data in 'nodes.csv' and 'edges.csv' will be used to construct the second graph. The type of node (hero/comic) can be found in 'nodes.csv', and an edge between a hero node and a comic node can be found in 'edges.csv' when the hero has appeared in that specific comic.\n",
    "\n",
    "##### This graph is assumed to be undirected and unweighted."
   ]
  },
  {
   "cell_type": "code",
   "execution_count": 52,
   "id": "cf6a0d61",
   "metadata": {},
   "outputs": [
    {
     "data": {
      "text/html": [
       "<div>\n",
       "<style scoped>\n",
       "    .dataframe tbody tr th:only-of-type {\n",
       "        vertical-align: middle;\n",
       "    }\n",
       "\n",
       "    .dataframe tbody tr th {\n",
       "        vertical-align: top;\n",
       "    }\n",
       "\n",
       "    .dataframe thead th {\n",
       "        text-align: right;\n",
       "    }\n",
       "</style>\n",
       "<table border=\"1\" class=\"dataframe\">\n",
       "  <thead>\n",
       "    <tr style=\"text-align: right;\">\n",
       "      <th></th>\n",
       "      <th>hero</th>\n",
       "      <th>comic</th>\n",
       "    </tr>\n",
       "  </thead>\n",
       "  <tbody>\n",
       "    <tr>\n",
       "      <th>1</th>\n",
       "      <td>3-D MAN/CHARLES CHAN</td>\n",
       "      <td>AVF 4</td>\n",
       "    </tr>\n",
       "    <tr>\n",
       "      <th>2</th>\n",
       "      <td>3-D MAN/CHARLES CHAN</td>\n",
       "      <td>AVF 5</td>\n",
       "    </tr>\n",
       "    <tr>\n",
       "      <th>3</th>\n",
       "      <td>3-D MAN/CHARLES CHAN</td>\n",
       "      <td>COC 1</td>\n",
       "    </tr>\n",
       "    <tr>\n",
       "      <th>4</th>\n",
       "      <td>3-D MAN/CHARLES CHAN</td>\n",
       "      <td>H2 251</td>\n",
       "    </tr>\n",
       "    <tr>\n",
       "      <th>5</th>\n",
       "      <td>3-D MAN/CHARLES CHAN</td>\n",
       "      <td>H2 252</td>\n",
       "    </tr>\n",
       "    <tr>\n",
       "      <th>6</th>\n",
       "      <td>3-D MAN/CHARLES CHAN</td>\n",
       "      <td>M/PRM 35</td>\n",
       "    </tr>\n",
       "    <tr>\n",
       "      <th>7</th>\n",
       "      <td>3-D MAN/CHARLES CHAN</td>\n",
       "      <td>M/PRM 36</td>\n",
       "    </tr>\n",
       "    <tr>\n",
       "      <th>8</th>\n",
       "      <td>3-D MAN/CHARLES CHAN</td>\n",
       "      <td>M/PRM 37</td>\n",
       "    </tr>\n",
       "    <tr>\n",
       "      <th>9</th>\n",
       "      <td>3-D MAN/CHARLES CHAN</td>\n",
       "      <td>WI? 9</td>\n",
       "    </tr>\n",
       "  </tbody>\n",
       "</table>\n",
       "</div>"
      ],
      "text/plain": [
       "                   hero     comic\n",
       "1  3-D MAN/CHARLES CHAN     AVF 4\n",
       "2  3-D MAN/CHARLES CHAN     AVF 5\n",
       "3  3-D MAN/CHARLES CHAN     COC 1\n",
       "4  3-D MAN/CHARLES CHAN    H2 251\n",
       "5  3-D MAN/CHARLES CHAN    H2 252\n",
       "6  3-D MAN/CHARLES CHAN  M/PRM 35\n",
       "7  3-D MAN/CHARLES CHAN  M/PRM 36\n",
       "8  3-D MAN/CHARLES CHAN  M/PRM 37\n",
       "9  3-D MAN/CHARLES CHAN     WI? 9"
      ]
     },
     "execution_count": 52,
     "metadata": {},
     "output_type": "execute_result"
    }
   ],
   "source": [
    "#Hero=3-D MAN/CHARLES CHAN\n",
    "\n",
    "edges.loc[edges['hero'] == '3-D MAN/CHARLES CHAN']"
   ]
  },
  {
   "cell_type": "markdown",
   "id": "0f89e543",
   "metadata": {},
   "source": [
    "## 2. Backend Implementation"
   ]
  },
  {
   "cell_type": "raw",
   "id": "e3e7d577",
   "metadata": {},
   "source": [
    "NOTE:\n",
    "The main functions for each functionality should be written from scratch in the backend part. \n",
    "Nevertheless, you can use the data structures provided by networkx \n",
    "\n",
    "(such as closeness_centrality, betweenness_centrality, pagerank, \n",
    "or any other function that can help you as an intermediate step for your main functionalities).\n"
   ]
  },
  {
   "cell_type": "markdown",
   "id": "eee02430",
   "metadata": {},
   "source": [
    "### Functionality 1 - extract the graph's features"
   ]
  },
  {
   "cell_type": "raw",
   "id": "6c738121",
   "metadata": {},
   "source": [
    "Input:\n",
    "\n",
    "The graph data\n",
    "The graph type (ex., number 1 or number 2)\n",
    "N: denoting the top N heroes that their data should be considered\n",
    "\n",
    "Output:\n",
    "\n",
    "The number of nodes in the network (if type 2, report for both node types)\n",
    "The number of collaborations of each superhero with the others (only if type 1)\n",
    "The number of heroes that have appeared in each comic (only if type 2)\n",
    "The network's density\n",
    "The network's degree distribution\n",
    "The average degree of the network\n",
    "The network's Hubs (hubs are nodes having degrees more extensive than the 95th percentile of the degree distribution)\n",
    "Whether the Network is sparse or dense\n",
    "\n",
    "Note: For this case, it makes sense to differentiate operations between the two graphs: for example, when computing hubs for the second graph, we likely care only about comics.\n"
   ]
  },
  {
   "cell_type": "code",
   "execution_count": null,
   "id": "e0749e89",
   "metadata": {},
   "outputs": [],
   "source": []
  },
  {
   "cell_type": "markdown",
   "id": "735998f6",
   "metadata": {},
   "source": [
    "### Functionality 2 - Find top superheroes"
   ]
  },
  {
   "cell_type": "raw",
   "id": "8c5aa5e3",
   "metadata": {},
   "source": [
    "Input:\n",
    "\n",
    "The graph data\n",
    "A node (hero or comic)\n",
    "One of the given metrics : Betweeness 1, PageRank, ClosenessCentrality 3, DegreeCentrality\n",
    "N: denoting the top N heroes that their data should be considered\n",
    "\n",
    "Output:\n",
    "\n",
    "The metric's value over the considered graph\n",
    "The given node's value\n",
    "\n",
    "Note: Give an explanation regarding the features of the user based on all of the metrics (e.g. if the betweenness metric is high, what does this mean in practice, what if the betweenness is low but has a high PageRank value, etc.)."
   ]
  },
  {
   "cell_type": "code",
   "execution_count": null,
   "id": "c55295da",
   "metadata": {},
   "outputs": [],
   "source": []
  },
  {
   "cell_type": "markdown",
   "id": "ef5237c1",
   "metadata": {},
   "source": [
    "### Functionality 3 - Shortest ordered Route"
   ]
  },
  {
   "cell_type": "markdown",
   "id": "ee69a45c",
   "metadata": {},
   "source": [
    "### Functionality 4 - Disconnecting Graphs"
   ]
  },
  {
   "cell_type": "markdown",
   "id": "44bf16dc",
   "metadata": {},
   "source": [
    "### Functionality 5 - Extracting Communities"
   ]
  },
  {
   "cell_type": "markdown",
   "id": "3f375450",
   "metadata": {},
   "source": [
    "## 3. Frontend Implementation"
   ]
  },
  {
   "cell_type": "code",
   "execution_count": null,
   "id": "30a4d0b0",
   "metadata": {},
   "outputs": [],
   "source": [
    "#In the visualization part, you can use any available function (networkx functions are highly recommended)."
   ]
  },
  {
   "cell_type": "markdown",
   "id": "16d6182f",
   "metadata": {},
   "source": [
    "### Visualization 1 - Visualize some features of the network"
   ]
  },
  {
   "cell_type": "code",
   "execution_count": null,
   "id": "de8368c9",
   "metadata": {},
   "outputs": [],
   "source": []
  },
  {
   "cell_type": "markdown",
   "id": "df181145",
   "metadata": {},
   "source": [
    "### Visualization 2 - Visualize centrality measure"
   ]
  },
  {
   "cell_type": "code",
   "execution_count": null,
   "id": "55a6339b",
   "metadata": {},
   "outputs": [],
   "source": []
  },
  {
   "cell_type": "code",
   "execution_count": null,
   "id": "291998fe",
   "metadata": {},
   "outputs": [],
   "source": []
  },
  {
   "cell_type": "code",
   "execution_count": null,
   "id": "af5126b5",
   "metadata": {},
   "outputs": [],
   "source": []
  },
  {
   "cell_type": "code",
   "execution_count": null,
   "id": "b805708c",
   "metadata": {},
   "outputs": [],
   "source": []
  },
  {
   "cell_type": "code",
   "execution_count": null,
   "id": "5146cd78",
   "metadata": {},
   "outputs": [],
   "source": []
  }
 ],
 "metadata": {
  "kernelspec": {
   "display_name": "Python 3 (ipykernel)",
   "language": "python",
   "name": "python3"
  },
  "language_info": {
   "codemirror_mode": {
    "name": "ipython",
    "version": 3
   },
   "file_extension": ".py",
   "mimetype": "text/x-python",
   "name": "python",
   "nbconvert_exporter": "python",
   "pygments_lexer": "ipython3",
   "version": "3.9.13"
  }
 },
 "nbformat": 4,
 "nbformat_minor": 5
}
