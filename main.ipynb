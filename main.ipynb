{
 "cells": [
  {
   "cell_type": "markdown",
   "id": "51a19ace",
   "metadata": {},
   "source": [
    "# Homework 5 - The Marvel Universe!"
   ]
  },
  {
   "cell_type": "code",
   "execution_count": 1,
   "id": "873d6dbc",
   "metadata": {},
   "outputs": [],
   "source": [
    "# importing libraries that we needed."
   ]
  },
  {
   "cell_type": "code",
   "execution_count": 2,
   "id": "74814882",
   "metadata": {},
   "outputs": [],
   "source": [
    "import pandas as pd\n",
    "import matplotlib.pyplot as plt\n",
    "import networkx as nx\n",
    "from tkinter import _flatten\n",
    "import numpy as np"
   ]
  },
  {
   "cell_type": "markdown",
   "id": "dfcda859",
   "metadata": {},
   "source": [
    "## 1. Data"
   ]
  },
  {
   "cell_type": "markdown",
   "id": "c118fa94",
   "metadata": {},
   "source": [
    "We imported the datasets for the questions in ADM HW-5."
   ]
  },
  {
   "cell_type": "code",
   "execution_count": 3,
   "id": "577a1599",
   "metadata": {},
   "outputs": [],
   "source": [
    "nodes=pd.read_csv('nodes.csv')"
   ]
  },
  {
   "cell_type": "code",
   "execution_count": 4,
   "id": "ce565594",
   "metadata": {},
   "outputs": [],
   "source": [
    "edges=pd.read_csv('edges.csv')"
   ]
  },
  {
   "cell_type": "code",
   "execution_count": 5,
   "id": "b7b32790",
   "metadata": {},
   "outputs": [],
   "source": [
    "hero_net=pd.read_csv('hero-network.csv')"
   ]
  },
  {
   "cell_type": "code",
   "execution_count": 6,
   "id": "b6da14cc",
   "metadata": {},
   "outputs": [
    {
     "data": {
      "text/html": [
       "<div>\n",
       "<style scoped>\n",
       "    .dataframe tbody tr th:only-of-type {\n",
       "        vertical-align: middle;\n",
       "    }\n",
       "\n",
       "    .dataframe tbody tr th {\n",
       "        vertical-align: top;\n",
       "    }\n",
       "\n",
       "    .dataframe thead th {\n",
       "        text-align: right;\n",
       "    }\n",
       "</style>\n",
       "<table border=\"1\" class=\"dataframe\">\n",
       "  <thead>\n",
       "    <tr style=\"text-align: right;\">\n",
       "      <th></th>\n",
       "      <th>node</th>\n",
       "      <th>type</th>\n",
       "    </tr>\n",
       "  </thead>\n",
       "  <tbody>\n",
       "    <tr>\n",
       "      <th>0</th>\n",
       "      <td>2001 10</td>\n",
       "      <td>comic</td>\n",
       "    </tr>\n",
       "    <tr>\n",
       "      <th>1</th>\n",
       "      <td>2001 8</td>\n",
       "      <td>comic</td>\n",
       "    </tr>\n",
       "    <tr>\n",
       "      <th>2</th>\n",
       "      <td>2001 9</td>\n",
       "      <td>comic</td>\n",
       "    </tr>\n",
       "    <tr>\n",
       "      <th>3</th>\n",
       "      <td>24-HOUR MAN/EMMANUEL</td>\n",
       "      <td>hero</td>\n",
       "    </tr>\n",
       "    <tr>\n",
       "      <th>4</th>\n",
       "      <td>3-D MAN/CHARLES CHAN</td>\n",
       "      <td>hero</td>\n",
       "    </tr>\n",
       "  </tbody>\n",
       "</table>\n",
       "</div>"
      ],
      "text/plain": [
       "                   node   type\n",
       "0               2001 10  comic\n",
       "1                2001 8  comic\n",
       "2                2001 9  comic\n",
       "3  24-HOUR MAN/EMMANUEL   hero\n",
       "4  3-D MAN/CHARLES CHAN   hero"
      ]
     },
     "execution_count": 6,
     "metadata": {},
     "output_type": "execute_result"
    }
   ],
   "source": [
    "#Contains two columns (node, type), indicating the nodes' name and type (comic, hero).\n",
    "\n",
    "nodes.head(5)"
   ]
  },
  {
   "cell_type": "code",
   "execution_count": 7,
   "id": "35fcdb49",
   "metadata": {},
   "outputs": [
    {
     "data": {
      "text/html": [
       "<div>\n",
       "<style scoped>\n",
       "    .dataframe tbody tr th:only-of-type {\n",
       "        vertical-align: middle;\n",
       "    }\n",
       "\n",
       "    .dataframe tbody tr th {\n",
       "        vertical-align: top;\n",
       "    }\n",
       "\n",
       "    .dataframe thead th {\n",
       "        text-align: right;\n",
       "    }\n",
       "</style>\n",
       "<table border=\"1\" class=\"dataframe\">\n",
       "  <thead>\n",
       "    <tr style=\"text-align: right;\">\n",
       "      <th></th>\n",
       "      <th>hero</th>\n",
       "      <th>comic</th>\n",
       "    </tr>\n",
       "  </thead>\n",
       "  <tbody>\n",
       "    <tr>\n",
       "      <th>0</th>\n",
       "      <td>24-HOUR MAN/EMMANUEL</td>\n",
       "      <td>AA2 35</td>\n",
       "    </tr>\n",
       "    <tr>\n",
       "      <th>1</th>\n",
       "      <td>3-D MAN/CHARLES CHAN</td>\n",
       "      <td>AVF 4</td>\n",
       "    </tr>\n",
       "    <tr>\n",
       "      <th>2</th>\n",
       "      <td>3-D MAN/CHARLES CHAN</td>\n",
       "      <td>AVF 5</td>\n",
       "    </tr>\n",
       "    <tr>\n",
       "      <th>3</th>\n",
       "      <td>3-D MAN/CHARLES CHAN</td>\n",
       "      <td>COC 1</td>\n",
       "    </tr>\n",
       "    <tr>\n",
       "      <th>4</th>\n",
       "      <td>3-D MAN/CHARLES CHAN</td>\n",
       "      <td>H2 251</td>\n",
       "    </tr>\n",
       "  </tbody>\n",
       "</table>\n",
       "</div>"
      ],
      "text/plain": [
       "                   hero   comic\n",
       "0  24-HOUR MAN/EMMANUEL  AA2 35\n",
       "1  3-D MAN/CHARLES CHAN   AVF 4\n",
       "2  3-D MAN/CHARLES CHAN   AVF 5\n",
       "3  3-D MAN/CHARLES CHAN   COC 1\n",
       "4  3-D MAN/CHARLES CHAN  H2 251"
      ]
     },
     "execution_count": 7,
     "metadata": {},
     "output_type": "execute_result"
    }
   ],
   "source": [
    "#Contains two columns (hero, comic), indicating which comics the heroes appear in.\n",
    "\n",
    "edges.head(5)"
   ]
  },
  {
   "cell_type": "code",
   "execution_count": 8,
   "id": "129015f5",
   "metadata": {},
   "outputs": [
    {
     "data": {
      "text/html": [
       "<div>\n",
       "<style scoped>\n",
       "    .dataframe tbody tr th:only-of-type {\n",
       "        vertical-align: middle;\n",
       "    }\n",
       "\n",
       "    .dataframe tbody tr th {\n",
       "        vertical-align: top;\n",
       "    }\n",
       "\n",
       "    .dataframe thead th {\n",
       "        text-align: right;\n",
       "    }\n",
       "</style>\n",
       "<table border=\"1\" class=\"dataframe\">\n",
       "  <thead>\n",
       "    <tr style=\"text-align: right;\">\n",
       "      <th></th>\n",
       "      <th>hero1</th>\n",
       "      <th>hero2</th>\n",
       "    </tr>\n",
       "  </thead>\n",
       "  <tbody>\n",
       "    <tr>\n",
       "      <th>0</th>\n",
       "      <td>LITTLE, ABNER</td>\n",
       "      <td>PRINCESS ZANDA</td>\n",
       "    </tr>\n",
       "    <tr>\n",
       "      <th>1</th>\n",
       "      <td>LITTLE, ABNER</td>\n",
       "      <td>BLACK PANTHER/T'CHAL</td>\n",
       "    </tr>\n",
       "    <tr>\n",
       "      <th>2</th>\n",
       "      <td>BLACK PANTHER/T'CHAL</td>\n",
       "      <td>PRINCESS ZANDA</td>\n",
       "    </tr>\n",
       "    <tr>\n",
       "      <th>3</th>\n",
       "      <td>LITTLE, ABNER</td>\n",
       "      <td>PRINCESS ZANDA</td>\n",
       "    </tr>\n",
       "    <tr>\n",
       "      <th>4</th>\n",
       "      <td>LITTLE, ABNER</td>\n",
       "      <td>BLACK PANTHER/T'CHAL</td>\n",
       "    </tr>\n",
       "  </tbody>\n",
       "</table>\n",
       "</div>"
      ],
      "text/plain": [
       "                  hero1                 hero2\n",
       "0         LITTLE, ABNER        PRINCESS ZANDA\n",
       "1         LITTLE, ABNER  BLACK PANTHER/T'CHAL\n",
       "2  BLACK PANTHER/T'CHAL        PRINCESS ZANDA\n",
       "3         LITTLE, ABNER        PRINCESS ZANDA\n",
       "4         LITTLE, ABNER  BLACK PANTHER/T'CHAL"
      ]
     },
     "execution_count": 8,
     "metadata": {},
     "output_type": "execute_result"
    }
   ],
   "source": [
    "#Contains the network of heroes who have appeared together in the comics.\n",
    "\n",
    "hero_net.head(5)"
   ]
  },
  {
   "cell_type": "markdown",
   "id": "f3de01ab",
   "metadata": {},
   "source": [
    "## Data preprocessing"
   ]
  },
  {
   "cell_type": "markdown",
   "id": "60d8ad58",
   "metadata": {},
   "source": [
    "#### 1-To overcome inconsistencies in the data, \n",
    "\n",
    "#### a-We deleted extra spaces at the end of the heroes' names in \"hero_network.csv\" file, compared to their names in \"edges.csv\"."
   ]
  },
  {
   "cell_type": "code",
   "execution_count": 10,
   "id": "b8729a87",
   "metadata": {},
   "outputs": [
    {
     "data": {
      "text/html": [
       "<div>\n",
       "<style scoped>\n",
       "    .dataframe tbody tr th:only-of-type {\n",
       "        vertical-align: middle;\n",
       "    }\n",
       "\n",
       "    .dataframe tbody tr th {\n",
       "        vertical-align: top;\n",
       "    }\n",
       "\n",
       "    .dataframe thead th {\n",
       "        text-align: right;\n",
       "    }\n",
       "</style>\n",
       "<table border=\"1\" class=\"dataframe\">\n",
       "  <thead>\n",
       "    <tr style=\"text-align: right;\">\n",
       "      <th></th>\n",
       "      <th>hero1</th>\n",
       "      <th>hero2</th>\n",
       "    </tr>\n",
       "  </thead>\n",
       "  <tbody>\n",
       "    <tr>\n",
       "      <th>0</th>\n",
       "      <td>LITTLE, ABNER</td>\n",
       "      <td>PRINCESS ZANDA</td>\n",
       "    </tr>\n",
       "    <tr>\n",
       "      <th>1</th>\n",
       "      <td>LITTLE, ABNER</td>\n",
       "      <td>BLACK PANTHER/T'CHAL</td>\n",
       "    </tr>\n",
       "    <tr>\n",
       "      <th>2</th>\n",
       "      <td>BLACK PANTHER/T'CHAL</td>\n",
       "      <td>PRINCESS ZANDA</td>\n",
       "    </tr>\n",
       "    <tr>\n",
       "      <th>3</th>\n",
       "      <td>LITTLE, ABNER</td>\n",
       "      <td>PRINCESS ZANDA</td>\n",
       "    </tr>\n",
       "    <tr>\n",
       "      <th>4</th>\n",
       "      <td>LITTLE, ABNER</td>\n",
       "      <td>BLACK PANTHER/T'CHAL</td>\n",
       "    </tr>\n",
       "  </tbody>\n",
       "</table>\n",
       "</div>"
      ],
      "text/plain": [
       "                  hero1                 hero2\n",
       "0         LITTLE, ABNER        PRINCESS ZANDA\n",
       "1         LITTLE, ABNER  BLACK PANTHER/T'CHAL\n",
       "2  BLACK PANTHER/T'CHAL        PRINCESS ZANDA\n",
       "3         LITTLE, ABNER        PRINCESS ZANDA\n",
       "4         LITTLE, ABNER  BLACK PANTHER/T'CHAL"
      ]
     },
     "execution_count": 10,
     "metadata": {},
     "output_type": "execute_result"
    }
   ],
   "source": [
    "hero_net.head()"
   ]
  },
  {
   "cell_type": "code",
   "execution_count": 11,
   "id": "4d3a447b",
   "metadata": {},
   "outputs": [
    {
     "name": "stdout",
     "output_type": "stream",
     "text": [
      "in the column 'hero1', Number of rows that has an extra space at the end of the hero name is 75735\n"
     ]
    }
   ],
   "source": [
    "print(\"in the column 'hero1', Number of rows that has an extra space at the end of the hero name is\",len(hero_net.loc[hero_net['hero1'].str.endswith(' ')]))"
   ]
  },
  {
   "cell_type": "code",
   "execution_count": 12,
   "id": "2cd21704",
   "metadata": {},
   "outputs": [
    {
     "name": "stdout",
     "output_type": "stream",
     "text": [
      "in the column 'hero2', Number of rows that has an extra space at the end of the hero name is 73556\n"
     ]
    }
   ],
   "source": [
    "print(\"in the column 'hero2', Number of rows that has an extra space at the end of the hero name is\",len(hero_net.loc[hero_net['hero2'].str.endswith(' ')]))"
   ]
  },
  {
   "cell_type": "markdown",
   "id": "cc19106f",
   "metadata": {},
   "source": [
    "We created a new dataframe after deleting extra spaces at hero names, named the new hero network dataframe as \"hero_net_pp\"."
   ]
  },
  {
   "cell_type": "code",
   "execution_count": 13,
   "id": "8f55b8cb",
   "metadata": {},
   "outputs": [],
   "source": [
    "hero_net_pp = pd.DataFrame(columns=['hero1', 'hero2'])\n",
    "\n",
    "hero_net_pp['hero1']=hero_net['hero1'].str.rstrip(' ')\n",
    "hero_net_pp['hero2']=hero_net['hero2'].str.rstrip(' ')"
   ]
  },
  {
   "cell_type": "code",
   "execution_count": 14,
   "id": "7b782560",
   "metadata": {},
   "outputs": [
    {
     "name": "stdout",
     "output_type": "stream",
     "text": [
      "in the column 'hero1', Number of rows that has an extra space at the end of the hero name is 0\n"
     ]
    }
   ],
   "source": [
    "print(\"in the column 'hero1', Number of rows that has an extra space at the end of the hero name is\",len(hero_net_pp.loc[hero_net_pp['hero1'].str.endswith(' ')]))"
   ]
  },
  {
   "cell_type": "code",
   "execution_count": 15,
   "id": "d886183d",
   "metadata": {},
   "outputs": [
    {
     "name": "stdout",
     "output_type": "stream",
     "text": [
      "in the column 'hero2', Number of rows that has an extra space at the end of the hero name is 0\n"
     ]
    }
   ],
   "source": [
    "print(\"in the column 'hero2', Number of rows that has an extra space at the end of the hero name is\",len(hero_net_pp.loc[hero_net_pp['hero2'].str.endswith(' ')]))"
   ]
  },
  {
   "cell_type": "markdown",
   "id": "5323c7df",
   "metadata": {},
   "source": [
    "#### b- We deleted extra \"/\" at the end of some heroes' names in \"hero_network.csv\" file, compared to their names in \"edges.csv\""
   ]
  },
  {
   "cell_type": "code",
   "execution_count": 16,
   "id": "07811ee1",
   "metadata": {},
   "outputs": [
    {
     "name": "stdout",
     "output_type": "stream",
     "text": [
      "in the column 'hero1', Number of rows that has an extra space at the end of the hero name is 15323\n"
     ]
    }
   ],
   "source": [
    "print(\"in the column 'hero1', Number of rows that has an extra space at the end of the hero name is\",len(hero_net_pp.loc[hero_net_pp['hero1'].str.endswith('/')]))"
   ]
  },
  {
   "cell_type": "code",
   "execution_count": 17,
   "id": "2fa8a070",
   "metadata": {},
   "outputs": [
    {
     "name": "stdout",
     "output_type": "stream",
     "text": [
      "in the column 'hero2', Number of rows that has an extra space at the end of the hero name is 15520\n"
     ]
    }
   ],
   "source": [
    "print(\"in the column 'hero2', Number of rows that has an extra space at the end of the hero name is\",len(hero_net_pp.loc[hero_net_pp['hero2'].str.endswith('/')]))"
   ]
  },
  {
   "cell_type": "code",
   "execution_count": 18,
   "id": "72f11ddc",
   "metadata": {},
   "outputs": [],
   "source": [
    "hero_net_pp['hero1']=hero_net_pp['hero1'].str.rstrip('/')\n",
    "hero_net_pp['hero2']=hero_net_pp['hero2'].str.rstrip('/')"
   ]
  },
  {
   "cell_type": "code",
   "execution_count": 19,
   "id": "49249736",
   "metadata": {},
   "outputs": [
    {
     "name": "stdout",
     "output_type": "stream",
     "text": [
      "in the column 'hero1', Number of rows that has an extra space at the end of the hero name is 0\n",
      "in the column 'hero2', Number of rows that has an extra space at the end of the hero name is 0\n"
     ]
    }
   ],
   "source": [
    "print(\"in the column 'hero1', Number of rows that has an extra space at the end of the hero name is\",len(hero_net_pp.loc[hero_net_pp['hero1'].str.endswith('/')]))\n",
    "print(\"in the column 'hero2', Number of rows that has an extra space at the end of the hero name is\",len(hero_net_pp.loc[hero_net_pp['hero2'].str.endswith('/')]))"
   ]
  },
  {
   "cell_type": "markdown",
   "id": "d06c349d",
   "metadata": {},
   "source": [
    "#### c- The hero name 'SPIDER-MAN/PETER PAR' in 'hero-network.csv' (due to a string length limit), has been changed  as 'SPIDER-MAN/PETER PARKER' as like as in 'edges.csv' "
   ]
  },
  {
   "cell_type": "code",
   "execution_count": 20,
   "id": "06eee969",
   "metadata": {},
   "outputs": [
    {
     "data": {
      "text/html": [
       "<div>\n",
       "<style scoped>\n",
       "    .dataframe tbody tr th:only-of-type {\n",
       "        vertical-align: middle;\n",
       "    }\n",
       "\n",
       "    .dataframe tbody tr th {\n",
       "        vertical-align: top;\n",
       "    }\n",
       "\n",
       "    .dataframe thead th {\n",
       "        text-align: right;\n",
       "    }\n",
       "</style>\n",
       "<table border=\"1\" class=\"dataframe\">\n",
       "  <thead>\n",
       "    <tr style=\"text-align: right;\">\n",
       "      <th></th>\n",
       "      <th>hero1</th>\n",
       "      <th>hero2</th>\n",
       "    </tr>\n",
       "  </thead>\n",
       "  <tbody>\n",
       "    <tr>\n",
       "      <th>398</th>\n",
       "      <td>SPIDER-MAN/PETER PAR</td>\n",
       "      <td>FIRESTAR/ANGELICA JO</td>\n",
       "    </tr>\n",
       "    <tr>\n",
       "      <th>399</th>\n",
       "      <td>SPIDER-MAN/PETER PAR</td>\n",
       "      <td>THUNDERBALL/DR. ELIO</td>\n",
       "    </tr>\n",
       "    <tr>\n",
       "      <th>400</th>\n",
       "      <td>SPIDER-MAN/PETER PAR</td>\n",
       "      <td>NAMORITA/NITA PRENTI</td>\n",
       "    </tr>\n",
       "    <tr>\n",
       "      <th>401</th>\n",
       "      <td>SPIDER-MAN/PETER PAR</td>\n",
       "      <td>SPEEDBALL/ROBBIE BAL</td>\n",
       "    </tr>\n",
       "    <tr>\n",
       "      <th>402</th>\n",
       "      <td>SPIDER-MAN/PETER PAR</td>\n",
       "      <td>HULK/DR. ROBERT BRUC</td>\n",
       "    </tr>\n",
       "    <tr>\n",
       "      <th>...</th>\n",
       "      <td>...</td>\n",
       "      <td>...</td>\n",
       "    </tr>\n",
       "    <tr>\n",
       "      <th>574356</th>\n",
       "      <td>SPIDER-MAN/PETER PAR</td>\n",
       "      <td>MAGMA/AMARA AQUILLA</td>\n",
       "    </tr>\n",
       "    <tr>\n",
       "      <th>574357</th>\n",
       "      <td>SPIDER-MAN/PETER PAR</td>\n",
       "      <td>SCARLET WITCH/WANDA</td>\n",
       "    </tr>\n",
       "    <tr>\n",
       "      <th>574358</th>\n",
       "      <td>SPIDER-MAN/PETER PAR</td>\n",
       "      <td>MAGIK/ILLYANA RASPUT</td>\n",
       "    </tr>\n",
       "    <tr>\n",
       "      <th>574359</th>\n",
       "      <td>SPIDER-MAN/PETER PAR</td>\n",
       "      <td>CAPTAIN AMERICA</td>\n",
       "    </tr>\n",
       "    <tr>\n",
       "      <th>574360</th>\n",
       "      <td>SPIDER-MAN/PETER PAR</td>\n",
       "      <td>WARLOCK III</td>\n",
       "    </tr>\n",
       "  </tbody>\n",
       "</table>\n",
       "<p>6652 rows × 2 columns</p>\n",
       "</div>"
      ],
      "text/plain": [
       "                       hero1                 hero2\n",
       "398     SPIDER-MAN/PETER PAR  FIRESTAR/ANGELICA JO\n",
       "399     SPIDER-MAN/PETER PAR  THUNDERBALL/DR. ELIO\n",
       "400     SPIDER-MAN/PETER PAR  NAMORITA/NITA PRENTI\n",
       "401     SPIDER-MAN/PETER PAR  SPEEDBALL/ROBBIE BAL\n",
       "402     SPIDER-MAN/PETER PAR  HULK/DR. ROBERT BRUC\n",
       "...                      ...                   ...\n",
       "574356  SPIDER-MAN/PETER PAR   MAGMA/AMARA AQUILLA\n",
       "574357  SPIDER-MAN/PETER PAR   SCARLET WITCH/WANDA\n",
       "574358  SPIDER-MAN/PETER PAR  MAGIK/ILLYANA RASPUT\n",
       "574359  SPIDER-MAN/PETER PAR       CAPTAIN AMERICA\n",
       "574360  SPIDER-MAN/PETER PAR           WARLOCK III\n",
       "\n",
       "[6652 rows x 2 columns]"
      ]
     },
     "execution_count": 20,
     "metadata": {},
     "output_type": "execute_result"
    }
   ],
   "source": [
    "hero_net_pp.loc[hero_net_pp['hero1'] == 'SPIDER-MAN/PETER PAR'] "
   ]
  },
  {
   "cell_type": "code",
   "execution_count": 21,
   "id": "c99bbfdf",
   "metadata": {},
   "outputs": [],
   "source": [
    "hero_net_pp = hero_net_pp.apply(lambda x: x.replace({'SPIDER-MAN/PETER PAR':'SPIDER-MAN/PETER PARKER'}, regex=True))"
   ]
  },
  {
   "cell_type": "code",
   "execution_count": 22,
   "id": "895386fb",
   "metadata": {},
   "outputs": [
    {
     "data": {
      "text/html": [
       "<div>\n",
       "<style scoped>\n",
       "    .dataframe tbody tr th:only-of-type {\n",
       "        vertical-align: middle;\n",
       "    }\n",
       "\n",
       "    .dataframe tbody tr th {\n",
       "        vertical-align: top;\n",
       "    }\n",
       "\n",
       "    .dataframe thead th {\n",
       "        text-align: right;\n",
       "    }\n",
       "</style>\n",
       "<table border=\"1\" class=\"dataframe\">\n",
       "  <thead>\n",
       "    <tr style=\"text-align: right;\">\n",
       "      <th></th>\n",
       "      <th>hero1</th>\n",
       "      <th>hero2</th>\n",
       "    </tr>\n",
       "  </thead>\n",
       "  <tbody>\n",
       "    <tr>\n",
       "      <th>397</th>\n",
       "      <td>NOVA/RICHARD RIDER</td>\n",
       "      <td>SPIDER-MAN/PETER PARKER</td>\n",
       "    </tr>\n",
       "    <tr>\n",
       "      <th>1505</th>\n",
       "      <td>STACY, PAUL</td>\n",
       "      <td>SPIDER-MAN/PETER PARKER</td>\n",
       "    </tr>\n",
       "    <tr>\n",
       "      <th>1510</th>\n",
       "      <td>STACY, JILL</td>\n",
       "      <td>SPIDER-MAN/PETER PARKER</td>\n",
       "    </tr>\n",
       "    <tr>\n",
       "      <th>1514</th>\n",
       "      <td>STACY, ARTHUR</td>\n",
       "      <td>SPIDER-MAN/PETER PARKER</td>\n",
       "    </tr>\n",
       "    <tr>\n",
       "      <th>1517</th>\n",
       "      <td>PARKER, MAY</td>\n",
       "      <td>SPIDER-MAN/PETER PARKER</td>\n",
       "    </tr>\n",
       "    <tr>\n",
       "      <th>...</th>\n",
       "      <td>...</td>\n",
       "      <td>...</td>\n",
       "    </tr>\n",
       "    <tr>\n",
       "      <th>574271</th>\n",
       "      <td>NIGHTCRAWLER/KURT WA</td>\n",
       "      <td>SPIDER-MAN/PETER PARKER</td>\n",
       "    </tr>\n",
       "    <tr>\n",
       "      <th>574291</th>\n",
       "      <td>SUNSPOT/ROBERTO DACO</td>\n",
       "      <td>SPIDER-MAN/PETER PARKER</td>\n",
       "    </tr>\n",
       "    <tr>\n",
       "      <th>574310</th>\n",
       "      <td>STORM/ORORO MUNROE S</td>\n",
       "      <td>SPIDER-MAN/PETER PARKER</td>\n",
       "    </tr>\n",
       "    <tr>\n",
       "      <th>574328</th>\n",
       "      <td>MIRAGE II/DANIELLE M</td>\n",
       "      <td>SPIDER-MAN/PETER PARKER</td>\n",
       "    </tr>\n",
       "    <tr>\n",
       "      <th>574345</th>\n",
       "      <td>SUNDER</td>\n",
       "      <td>SPIDER-MAN/PETER PARKER</td>\n",
       "    </tr>\n",
       "  </tbody>\n",
       "</table>\n",
       "<p>7065 rows × 2 columns</p>\n",
       "</div>"
      ],
      "text/plain": [
       "                       hero1                    hero2\n",
       "397       NOVA/RICHARD RIDER  SPIDER-MAN/PETER PARKER\n",
       "1505             STACY, PAUL  SPIDER-MAN/PETER PARKER\n",
       "1510             STACY, JILL  SPIDER-MAN/PETER PARKER\n",
       "1514           STACY, ARTHUR  SPIDER-MAN/PETER PARKER\n",
       "1517             PARKER, MAY  SPIDER-MAN/PETER PARKER\n",
       "...                      ...                      ...\n",
       "574271  NIGHTCRAWLER/KURT WA  SPIDER-MAN/PETER PARKER\n",
       "574291  SUNSPOT/ROBERTO DACO  SPIDER-MAN/PETER PARKER\n",
       "574310  STORM/ORORO MUNROE S  SPIDER-MAN/PETER PARKER\n",
       "574328  MIRAGE II/DANIELLE M  SPIDER-MAN/PETER PARKER\n",
       "574345                SUNDER  SPIDER-MAN/PETER PARKER\n",
       "\n",
       "[7065 rows x 2 columns]"
      ]
     },
     "execution_count": 22,
     "metadata": {},
     "output_type": "execute_result"
    }
   ],
   "source": [
    "#to check the dataset, after we replaced heroes names. \n",
    "hero_net_pp.loc[hero_net_pp['hero2'] == 'SPIDER-MAN/PETER PARKER'] "
   ]
  },
  {
   "cell_type": "markdown",
   "id": "38915322",
   "metadata": {},
   "source": [
    "#### 2- Some entries in the 'hero-network.csv' have the same hero in both columns. In the graph, because a self-loop makes no sense in this network, We removed those from the dataset."
   ]
  },
  {
   "cell_type": "code",
   "execution_count": 23,
   "id": "af23d743",
   "metadata": {},
   "outputs": [
    {
     "data": {
      "text/plain": [
       "hero1                 hero2               \n",
       "PATRIOT/JEFF MACE     PATRIOT/JEFF MACE       1275\n",
       "MISS AMERICA/MADELIN  MISS AMERICA/MADELIN     672\n",
       "BUCKY/BUCKY BARNES    BUCKY/BUCKY BARNES       120\n",
       "CAPTAIN AMERICA       CAPTAIN AMERICA          120\n",
       "WHIZZER/ROBERT L. FR  WHIZZER/ROBERT L. FR      37\n",
       "RAVONNA LEXUS RENSLA  RAVONNA LEXUS RENSLA       2\n",
       "BLUE DIAMOND/PROFESS  BLUE DIAMOND/PROFESS       1\n",
       "DR. STRANGE DOPPELGA  DR. STRANGE DOPPELGA       1\n",
       "FIN/PETER NOBLE       FIN/PETER NOBLE            1\n",
       "SILVER SCORPION/ELIS  SILVER SCORPION/ELIS       1\n",
       "SUB-MARINER/NAMOR MA  SUB-MARINER/NAMOR MA       1\n",
       "VINDICATOR II DOPPEL  VINDICATOR II DOPPEL       1\n",
       "dtype: int64"
      ]
     },
     "execution_count": 23,
     "metadata": {},
     "output_type": "execute_result"
    }
   ],
   "source": [
    "hero_net_pp.loc[hero_net_pp['hero1'] == hero_net_pp['hero2']].value_counts() "
   ]
  },
  {
   "cell_type": "code",
   "execution_count": 25,
   "id": "650db9a0",
   "metadata": {},
   "outputs": [],
   "source": [
    "#Removing self loop\n",
    "hero_net_pp.drop(hero_net_pp.index[(hero_net_pp[\"hero1\"] == hero_net_pp['hero2'] )],axis=0,inplace=True)"
   ]
  },
  {
   "cell_type": "code",
   "execution_count": 26,
   "id": "eefa3940",
   "metadata": {},
   "outputs": [
    {
     "data": {
      "text/plain": [
       "Series([], dtype: int64)"
      ]
     },
     "execution_count": 26,
     "metadata": {},
     "output_type": "execute_result"
    }
   ],
   "source": [
    "hero_net_pp.loc[hero_net_pp['hero1'] == hero_net_pp['hero2']].value_counts() "
   ]
  },
  {
   "cell_type": "markdown",
   "id": "396266a4",
   "metadata": {},
   "source": [
    "### Graphs setup"
   ]
  },
  {
   "cell_type": "markdown",
   "id": "f5e3f77b",
   "metadata": {},
   "source": [
    "### First graph\n",
    "Will be constructed using the data stored in the 'hero-network.csv' file, in which an edge between two heroes can be found if they have appeared in the same comic together. The number of edges between two heroes represents the number of times they have collaborated in different comics. \n",
    "\n",
    "###### The graph should be considered weighted and undirected. \n",
    "It is up to you to decide which metric to use to calculate the weights, but we anticipate that the cost will be lower for heroes with more collaborations. Please specify which metric you used to select the weights in the report.\n"
   ]
  },
  {
   "cell_type": "raw",
   "id": "b5e5cc78",
   "metadata": {},
   "source": [
    "IMPORTANT: The main functions for each functionality should be written from scratch in the backend part. Nevertheless, you can use the data structures provided by networkx (such as closeness_centrality, betweenness_centrality, pagerank, or any other function that can help you as an intermediate step for your main functionalities)."
   ]
  },
  {
   "cell_type": "markdown",
   "id": "a2bda149",
   "metadata": {},
   "source": [
    "#TEST DATA\n",
    "herodata={'hero1':['H1','H1','H1'],\n",
    "      'hero2':['H2','H2','H3']}\n",
    "\n",
    "heroframe=pd.DataFrame(herodata)\n",
    "\n",
    "heroframe['weight'] = heroframe.groupby(['hero1', 'hero2'])['hero1'].transform('size')\n",
    "heroframe"
   ]
  },
  {
   "cell_type": "markdown",
   "id": "ce161b03",
   "metadata": {},
   "source": [
    "We created the weight column in \"hero_net_pp\" dataframe. Calculated the weight metric as follows.\n",
    "\n",
    "#### weight = 1 / number of occurances together.\n",
    "e.g. LITTLE, ABNER and PRINCESS ZANDA appear 5 times in same comics together. \n",
    "The weight for these two heroes is 1/5 = 0.2."
   ]
  },
  {
   "cell_type": "code",
   "execution_count": 105,
   "id": "a66501c0",
   "metadata": {},
   "outputs": [
    {
     "data": {
      "text/html": [
       "<div>\n",
       "<style scoped>\n",
       "    .dataframe tbody tr th:only-of-type {\n",
       "        vertical-align: middle;\n",
       "    }\n",
       "\n",
       "    .dataframe tbody tr th {\n",
       "        vertical-align: top;\n",
       "    }\n",
       "\n",
       "    .dataframe thead th {\n",
       "        text-align: right;\n",
       "    }\n",
       "</style>\n",
       "<table border=\"1\" class=\"dataframe\">\n",
       "  <thead>\n",
       "    <tr style=\"text-align: right;\">\n",
       "      <th></th>\n",
       "      <th>hero1</th>\n",
       "      <th>hero2</th>\n",
       "      <th>weight</th>\n",
       "    </tr>\n",
       "  </thead>\n",
       "  <tbody>\n",
       "    <tr>\n",
       "      <th>0</th>\n",
       "      <td>LITTLE, ABNER</td>\n",
       "      <td>PRINCESS ZANDA</td>\n",
       "      <td>0.200000</td>\n",
       "    </tr>\n",
       "    <tr>\n",
       "      <th>1</th>\n",
       "      <td>LITTLE, ABNER</td>\n",
       "      <td>BLACK PANTHER/T'CHAL</td>\n",
       "      <td>0.250000</td>\n",
       "    </tr>\n",
       "    <tr>\n",
       "      <th>2</th>\n",
       "      <td>BLACK PANTHER/T'CHAL</td>\n",
       "      <td>PRINCESS ZANDA</td>\n",
       "      <td>0.250000</td>\n",
       "    </tr>\n",
       "    <tr>\n",
       "      <th>3</th>\n",
       "      <td>LITTLE, ABNER</td>\n",
       "      <td>PRINCESS ZANDA</td>\n",
       "      <td>0.200000</td>\n",
       "    </tr>\n",
       "    <tr>\n",
       "      <th>4</th>\n",
       "      <td>LITTLE, ABNER</td>\n",
       "      <td>BLACK PANTHER/T'CHAL</td>\n",
       "      <td>0.250000</td>\n",
       "    </tr>\n",
       "    <tr>\n",
       "      <th>...</th>\n",
       "      <td>...</td>\n",
       "      <td>...</td>\n",
       "      <td>...</td>\n",
       "    </tr>\n",
       "    <tr>\n",
       "      <th>574462</th>\n",
       "      <td>COLOSSUS II/PETER RA</td>\n",
       "      <td>CALLISTO</td>\n",
       "      <td>0.066667</td>\n",
       "    </tr>\n",
       "    <tr>\n",
       "      <th>574463</th>\n",
       "      <td>CALLISTO</td>\n",
       "      <td>ROGUE</td>\n",
       "      <td>0.100000</td>\n",
       "    </tr>\n",
       "    <tr>\n",
       "      <th>574464</th>\n",
       "      <td>CALLISTO</td>\n",
       "      <td>CALIBAN</td>\n",
       "      <td>0.200000</td>\n",
       "    </tr>\n",
       "    <tr>\n",
       "      <th>574465</th>\n",
       "      <td>CALIBAN</td>\n",
       "      <td>ROGUE</td>\n",
       "      <td>0.166667</td>\n",
       "    </tr>\n",
       "    <tr>\n",
       "      <th>574466</th>\n",
       "      <td>HULK/DR. ROBERT BRUC</td>\n",
       "      <td>MARKS, DR. SHIELA</td>\n",
       "      <td>1.000000</td>\n",
       "    </tr>\n",
       "  </tbody>\n",
       "</table>\n",
       "<p>572235 rows × 3 columns</p>\n",
       "</div>"
      ],
      "text/plain": [
       "                       hero1                 hero2    weight\n",
       "0              LITTLE, ABNER        PRINCESS ZANDA  0.200000\n",
       "1              LITTLE, ABNER  BLACK PANTHER/T'CHAL  0.250000\n",
       "2       BLACK PANTHER/T'CHAL        PRINCESS ZANDA  0.250000\n",
       "3              LITTLE, ABNER        PRINCESS ZANDA  0.200000\n",
       "4              LITTLE, ABNER  BLACK PANTHER/T'CHAL  0.250000\n",
       "...                      ...                   ...       ...\n",
       "574462  COLOSSUS II/PETER RA              CALLISTO  0.066667\n",
       "574463              CALLISTO                ROGUE   0.100000\n",
       "574464              CALLISTO               CALIBAN  0.200000\n",
       "574465               CALIBAN                ROGUE   0.166667\n",
       "574466  HULK/DR. ROBERT BRUC     MARKS, DR. SHIELA  1.000000\n",
       "\n",
       "[572235 rows x 3 columns]"
      ]
     },
     "execution_count": 105,
     "metadata": {},
     "output_type": "execute_result"
    }
   ],
   "source": [
    "#calculate weights and add to dataframe\n",
    "hero_net_pp['weight'] = 1/(hero_net_pp.groupby(['hero1', 'hero2'])['hero1'].transform('size'))\n",
    "hero_net_pp"
   ]
  },
  {
   "cell_type": "code",
   "execution_count": 104,
   "id": "13efa5d3",
   "metadata": {},
   "outputs": [],
   "source": [
    "##First GRAPH - G1\n",
    "#Loading edges and weights into the graph \n",
    "G1 = nx.from_pandas_edgelist(hero_net_pp, 'hero1', 'hero2', create_using=nx.Graph(), edge_attr='weight')"
   ]
  },
  {
   "cell_type": "code",
   "execution_count": 61,
   "id": "40ed1bbb",
   "metadata": {},
   "outputs": [
    {
     "name": "stderr",
     "output_type": "stream",
     "text": [
      "C:\\Users\\gizem\\AppData\\Local\\Temp\\ipykernel_396\\968434106.py:1: DeprecationWarning: info is deprecated and will be removed in version 3.0.\n",
      "\n",
      "  nx.info(G1)\n"
     ]
    },
    {
     "data": {
      "text/plain": [
       "'Graph with 6421 nodes and 167100 edges'"
      ]
     },
     "execution_count": 61,
     "metadata": {},
     "output_type": "execute_result"
    }
   ],
   "source": [
    "nx.info(G1)"
   ]
  },
  {
   "cell_type": "code",
   "execution_count": 64,
   "id": "9a1377c9",
   "metadata": {},
   "outputs": [],
   "source": [
    "#subgraph to visualize a sample from Graph 1\n",
    "G1_sub = nx.subgraph(G1, ['LITTLE, ABNER','PRINCESS ZANDA','CALLISTO','CALIBAN'])"
   ]
  },
  {
   "cell_type": "code",
   "execution_count": 101,
   "id": "0c093606",
   "metadata": {},
   "outputs": [
    {
     "data": {
      "image/png": "[encoded data removed]",
      "text/plain": [
       "<Figure size 640x480 with 1 Axes>"
      ]
     },
     "metadata": {},
     "output_type": "display_data"
    }
   ],
   "source": [
    "#PLOTTING FIRST GRAPH'S SAMPLE with the weights \n",
    "\n",
    "#from stackoverflow\n",
    "\n",
    "elarge = [(u, v) for (u, v, d) in G1_sub.edges(data=True) if d[\"weight\"] > 0.5]\n",
    "esmall = [(u, v) for (u, v, d) in G1_sub.edges(data=True) if d[\"weight\"] <= 0.5]\n",
    "\n",
    "pos = nx.spring_layout(G1_sub, seed=7)  # positions for all nodes - seed for reproducibility\n",
    "\n",
    "# nodes\n",
    "nx.draw_networkx_nodes(G1_sub, pos, node_size=700)\n",
    "\n",
    "# edges\n",
    "nx.draw_networkx_edges(G1_sub, pos, edgelist=elarge, width=1)\n",
    "nx.draw_networkx_edges(\n",
    "    G1_sub, pos, edgelist=esmall, width=1, alpha=0.2, edge_color=\"b\", style=\"dashed\"\n",
    ")\n",
    "\n",
    "# node labels\n",
    "nx.draw_networkx_labels(G1_sub, pos, font_size=10, font_family=\"sans-serif\")\n",
    "# edge weight labels\n",
    "edge_labels = nx.get_edge_attributes(G1_sub, \"weight\")\n",
    "nx.draw_networkx_edge_labels(G1_sub, pos, edge_labels)\n",
    "\n",
    "ax = plt.gca()\n",
    "ax.margins(0.08)\n",
    "#plt.axis(\"off\")\n",
    "plt.tight_layout()\n",
    "plt.show()"
   ]
  },
  {
   "cell_type": "code",
   "execution_count": 66,
   "id": "73b66560",
   "metadata": {},
   "outputs": [
    {
     "data": {
      "text/plain": [
       "hero1                 hero2                 weight  \n",
       "PATRIOT/JEFF MACE     MISS AMERICA/MADELIN  0.000789    1267\n",
       "MISS AMERICA/MADELIN  PATRIOT/JEFF MACE     0.001595     627\n",
       "THING/BENJAMIN J. GR  HUMAN TORCH/JOHNNY S  0.002618     382\n",
       "HUMAN TORCH/JOHNNY S  MR. FANTASTIC/REED R  0.002732     366\n",
       "THING/BENJAMIN J. GR  MR. FANTASTIC/REED R  0.002740     365\n",
       "                                                        ... \n",
       "IZANAMI               CASS, LARRY MAD DOG   1.000000       1\n",
       "                      FLAME                 1.000000       1\n",
       "                      GHOST RIDER III/DAN   1.000000       1\n",
       "                      HARRIS, CHRISTINE     1.000000       1\n",
       "ZZZAX                 WONDER MAN/SIMON WIL  1.000000       1\n",
       "Length: 224099, dtype: int64"
      ]
     },
     "execution_count": 66,
     "metadata": {},
     "output_type": "execute_result"
    }
   ],
   "source": [
    "#hero value counts\n",
    "hero_net_pp.value_counts()"
   ]
  },
  {
   "cell_type": "code",
   "execution_count": 67,
   "id": "1dff0cb1",
   "metadata": {},
   "outputs": [
    {
     "name": "stdout",
     "output_type": "stream",
     "text": [
      "Number of unique values for the columns hero1: 6206 and hero2: 6169\n"
     ]
    }
   ],
   "source": [
    "#Graph is created and data is validated with the sample subgraph\n",
    "\n",
    "print(\"Number of unique values for the columns hero1:\",hero_net_pp.hero1.unique().size, \"and hero2:\",hero_net_pp.hero2.unique().size)"
   ]
  },
  {
   "cell_type": "markdown",
   "id": "c3649e2f",
   "metadata": {},
   "source": [
    "### Second graph \n",
    "The data in 'nodes.csv' and 'edges.csv' will be used to construct the second graph. The type of node (hero/comic) can be found in 'nodes.csv', and an edge between a hero node and a comic node can be found in 'edges.csv' when the hero has appeared in that specific comic.\n",
    "\n",
    "##### This graph is assumed to be undirected and unweighted."
   ]
  },
  {
   "cell_type": "code",
   "execution_count": 185,
   "id": "cf6a0d61",
   "metadata": {},
   "outputs": [
    {
     "name": "stdout",
     "output_type": "stream",
     "text": [
      "                       node  type\n",
      "3      24-HOUR MAN/EMMANUEL  hero\n",
      "4      3-D MAN/CHARLES CHAN  hero\n",
      "5          4-D MAN/MERCURIO  hero\n",
      "6                   8-BALL/  hero\n",
      "534            ABBOTT, JACK  hero\n",
      "...                     ...   ...\n",
      "19085           ZOTA, CARLO  hero\n",
      "19086                  ZOTA  hero\n",
      "19087                 ZURAS  hero\n",
      "19088                  ZURI  hero\n",
      "19089                 ZZZAX  hero\n",
      "\n",
      "[6439 rows x 2 columns]\n",
      "               node   type\n",
      "0           2001 10  comic\n",
      "1            2001 8  comic\n",
      "2            2001 9  comic\n",
      "7             A '00  comic\n",
      "8             A '01  comic\n",
      "...             ...    ...\n",
      "19021  YOUNG MEN 24  comic\n",
      "19022  YOUNG MEN 25  comic\n",
      "19023  YOUNG MEN 26  comic\n",
      "19024  YOUNG MEN 27  comic\n",
      "19025  YOUNG MEN 28  comic\n",
      "\n",
      "[12651 rows x 2 columns]\n"
     ]
    }
   ],
   "source": [
    "#SECOND GRAPH - G2\n",
    "\n",
    "#splitting hero and comic nodes dataframes\n",
    "hero_nodes=nodes.loc[nodes['type'] =='hero'] \n",
    "comic_nodes=nodes.loc[nodes['type'] =='comic'] \n",
    "print(hero_nodes)\n",
    "print(comic_nodes)"
   ]
  },
  {
   "cell_type": "code",
   "execution_count": 226,
   "id": "1c4d85fd",
   "metadata": {},
   "outputs": [],
   "source": [
    "#Loading nodes into the graph \n",
    "\n",
    "G2 = nx.Graph()\n",
    "\n",
    "G2.add_nodes_from(hero_nodes['node'], gtp='hero')\n",
    "G2.add_nodes_from(comic_nodes['node'], gtp='comic')\n",
    "\n",
    "#Loading edges into the graph \n",
    "G2 = nx.from_pandas_edgelist(edges, 'hero', 'comic', create_using=nx.Graph())"
   ]
  },
  {
   "cell_type": "code",
   "execution_count": null,
   "id": "15cbb2e0",
   "metadata": {},
   "outputs": [],
   "source": []
  },
  {
   "cell_type": "code",
   "execution_count": 227,
   "id": "7e3ed908",
   "metadata": {},
   "outputs": [
    {
     "name": "stderr",
     "output_type": "stream",
     "text": [
      "C:\\Users\\gizem\\AppData\\Local\\Temp\\ipykernel_396\\1976782796.py:1: DeprecationWarning: info is deprecated and will be removed in version 3.0.\n",
      "\n",
      "  nx.info(G2)\n"
     ]
    },
    {
     "data": {
      "text/plain": [
       "'Graph with 19090 nodes and 96104 edges'"
      ]
     },
     "execution_count": 227,
     "metadata": {},
     "output_type": "execute_result"
    }
   ],
   "source": [
    "nx.info(G2)"
   ]
  },
  {
   "cell_type": "code",
   "execution_count": 198,
   "id": "78df6ac2",
   "metadata": {},
   "outputs": [
    {
     "data": {
      "text/html": [
       "<div>\n",
       "<style scoped>\n",
       "    .dataframe tbody tr th:only-of-type {\n",
       "        vertical-align: middle;\n",
       "    }\n",
       "\n",
       "    .dataframe tbody tr th {\n",
       "        vertical-align: top;\n",
       "    }\n",
       "\n",
       "    .dataframe thead th {\n",
       "        text-align: right;\n",
       "    }\n",
       "</style>\n",
       "<table border=\"1\" class=\"dataframe\">\n",
       "  <thead>\n",
       "    <tr style=\"text-align: right;\">\n",
       "      <th></th>\n",
       "      <th>hero</th>\n",
       "      <th>comic</th>\n",
       "    </tr>\n",
       "  </thead>\n",
       "  <tbody>\n",
       "    <tr>\n",
       "      <th>0</th>\n",
       "      <td>24-HOUR MAN/EMMANUEL</td>\n",
       "      <td>AA2 35</td>\n",
       "    </tr>\n",
       "    <tr>\n",
       "      <th>1</th>\n",
       "      <td>3-D MAN/CHARLES CHAN</td>\n",
       "      <td>AVF 4</td>\n",
       "    </tr>\n",
       "    <tr>\n",
       "      <th>2</th>\n",
       "      <td>3-D MAN/CHARLES CHAN</td>\n",
       "      <td>AVF 5</td>\n",
       "    </tr>\n",
       "    <tr>\n",
       "      <th>3</th>\n",
       "      <td>3-D MAN/CHARLES CHAN</td>\n",
       "      <td>COC 1</td>\n",
       "    </tr>\n",
       "    <tr>\n",
       "      <th>4</th>\n",
       "      <td>3-D MAN/CHARLES CHAN</td>\n",
       "      <td>H2 251</td>\n",
       "    </tr>\n",
       "    <tr>\n",
       "      <th>...</th>\n",
       "      <td>...</td>\n",
       "      <td>...</td>\n",
       "    </tr>\n",
       "    <tr>\n",
       "      <th>96099</th>\n",
       "      <td>ZZZAX</td>\n",
       "      <td>H2 326</td>\n",
       "    </tr>\n",
       "    <tr>\n",
       "      <th>96100</th>\n",
       "      <td>ZZZAX</td>\n",
       "      <td>H2 327</td>\n",
       "    </tr>\n",
       "    <tr>\n",
       "      <th>96101</th>\n",
       "      <td>ZZZAX</td>\n",
       "      <td>M/CP 8/4</td>\n",
       "    </tr>\n",
       "    <tr>\n",
       "      <th>96102</th>\n",
       "      <td>ZZZAX</td>\n",
       "      <td>PM 47</td>\n",
       "    </tr>\n",
       "    <tr>\n",
       "      <th>96103</th>\n",
       "      <td>ZZZAX</td>\n",
       "      <td>WCA2 12</td>\n",
       "    </tr>\n",
       "  </tbody>\n",
       "</table>\n",
       "<p>96104 rows × 2 columns</p>\n",
       "</div>"
      ],
      "text/plain": [
       "                       hero     comic\n",
       "0      24-HOUR MAN/EMMANUEL    AA2 35\n",
       "1      3-D MAN/CHARLES CHAN     AVF 4\n",
       "2      3-D MAN/CHARLES CHAN     AVF 5\n",
       "3      3-D MAN/CHARLES CHAN     COC 1\n",
       "4      3-D MAN/CHARLES CHAN    H2 251\n",
       "...                     ...       ...\n",
       "96099                 ZZZAX    H2 326\n",
       "96100                 ZZZAX    H2 327\n",
       "96101                 ZZZAX  M/CP 8/4\n",
       "96102                 ZZZAX     PM 47\n",
       "96103                 ZZZAX   WCA2 12\n",
       "\n",
       "[96104 rows x 2 columns]"
      ]
     },
     "execution_count": 198,
     "metadata": {},
     "output_type": "execute_result"
    }
   ],
   "source": [
    "edges"
   ]
  },
  {
   "cell_type": "code",
   "execution_count": 209,
   "id": "d73c27c4",
   "metadata": {},
   "outputs": [
    {
     "data": {
      "image/png": "[encoded data removed]",
      "text/plain": [
       "<Figure size 640x480 with 1 Axes>"
      ]
     },
     "metadata": {},
     "output_type": "display_data"
    }
   ],
   "source": [
    "#subgraph to visualize a sample from Graph 2\n",
    "G2_sub = nx.subgraph(G2, ['24-HOUR MAN/EMMANUEL','AA2 35'])\n",
    "nx.draw(G2_sub)\n"
   ]
  },
  {
   "cell_type": "markdown",
   "id": "0f89e543",
   "metadata": {},
   "source": [
    "## 2. Backend Implementation"
   ]
  },
  {
   "cell_type": "raw",
   "id": "e3e7d577",
   "metadata": {},
   "source": [
    "NOTE:\n",
    "The main functions for each functionality should be written from scratch in the backend part. \n",
    "Nevertheless, you can use the data structures provided by networkx \n",
    "\n",
    "(such as closeness_centrality, betweenness_centrality, pagerank, \n",
    "or any other function that can help you as an intermediate step for your main functionalities).\n"
   ]
  },
  {
   "cell_type": "markdown",
   "id": "eee02430",
   "metadata": {},
   "source": [
    "### Functionality 1 - extract the graph's features"
   ]
  },
  {
   "cell_type": "raw",
   "id": "6c738121",
   "metadata": {},
   "source": [
    "Input:\n",
    "\n",
    "The graph data\n",
    "The graph type (ex., number 1 or number 2)\n",
    "N: denoting the top N heroes that their data should be considered\n",
    "\n",
    "Output:\n",
    "\n",
    "The number of nodes in the network (if type 2, report for both node types)\n",
    "The number of collaborations of each superhero with the others (only if type 1)\n",
    "The number of heroes that have appeared in each comic (only if type 2)\n",
    "The network's density\n",
    "The network's degree distribution\n",
    "The average degree of the network\n",
    "The network's Hubs (hubs are nodes having degrees more extensive than the 95th percentile of the degree distribution)\n",
    "Whether the Network is sparse or dense\n",
    "\n",
    "Note: For this case, it makes sense to differentiate operations between the two graphs: \n",
    "\n",
    "for example, when computing hubs for the second graph, we likely care only about comics."
   ]
  },
  {
   "cell_type": "code",
   "execution_count": 250,
   "id": "e0749e89",
   "metadata": {},
   "outputs": [],
   "source": [
    "def func1(graphData,graphType,N):\n",
    "    #Add \"N\" case here \n",
    "    \n",
    "    d = dict() #defining a dictionary d, then function will return the dictionary d.\n",
    "    \n",
    "    if graphType==1:\n",
    "        #The number of nodes in the network (if type 2, report for both node types)\n",
    "        d['numOfNodes'] = graphData.number_of_nodes()\n",
    "        \n",
    "        #The number of collaborations of each superhero with the others (only if type 1)\n",
    "        #for each node, we calculated number of the collabrations. And stores them into a dictionary \"colab_dict\"\n",
    "        colab_dict=dict()\n",
    "        for node in graphData.nodes():\n",
    "            colab_dict[node]=len(graphData.edges(node)) #node is for hero name\n",
    "        d[\"collabs\"]= colab_dict\n",
    "        \n",
    "        #network density\n",
    "        d[\"density\"]=nx.density(graphData)\n",
    "        \n",
    "        #degree distribution   \n",
    "        degree_sequence = sorted((d for n, d in graphData.degree()), reverse=True)       \n",
    "        d[\"degreeDist\"]= degree_sequence \n",
    "        \n",
    "        #Divide the summation of all nodes' degree by the total number of nodes.\n",
    "        d[\"averageDegreeofNetwork\"]= sum(degree_sequence)/len(graphData.nodes())\n",
    "        \n",
    "        #Hubs\n",
    "        threshold=np.percentile(degree_sequence, 95)\n",
    "        d[\"networksHubs\"]=[n for n, d in graphData.degree() if d > threshold]\n",
    "        \n",
    "        #Sparse or Dense\n",
    "        d[\"sparseOrDense\"]=\"dense\" if d[\"density\"]>0.5 else \"sparse\"\n",
    "        \n",
    "    if graphType==2:\n",
    "        \n",
    "         #The number of nodes in the network (if type 2, report for both node types)\n",
    "        d['numOfNodes'] = graphData.number_of_nodes()\n",
    "        \n",
    "        #The number of heroes that have appeared in each comic (only if type 2)\n",
    "        #d[numOfHereosInComic]=\n",
    "\n",
    "        \n",
    "        #network density\n",
    "        d[\"density\"]=nx.density(graphData)\n",
    "        \n",
    "        #degree distribution\n",
    "        degree_sequence = sorted((d for n, d in graphData.degree()), reverse=True)\n",
    "        d[\"degreeDist\"]= degree_sequence\n",
    "        \n",
    "        #Divide the summation of all nodes' degree by the total number of nodes.\n",
    "        d[\"averageDegreeofNetwork\"]= sum(degree_sequence)/len(graphData.nodes())\n",
    "        \n",
    "        \n",
    "        #Hubs \n",
    "        #Note: For this case, it makes sense to differentiate operations between the two graphs: \n",
    "        #for example: when computing hubs for the second graph, we likely care only about comics.\n",
    "        threshold=np.percentile(degree_sequence, 95)\n",
    "        d[\"networksHubs\"]=[n for n, d in graphData.degree() if d > threshold]\n",
    "\n",
    "        #Sparse or Dense\n",
    "        d[\"sparseOrDense\"]=\"dense\" if d[\"density\"]>0.5 else \"sparse\"\n",
    "    \n",
    "    return d\n"
   ]
  },
  {
   "cell_type": "markdown",
   "id": "735998f6",
   "metadata": {},
   "source": [
    "### Functionality 2 - Find top superheroes"
   ]
  },
  {
   "cell_type": "raw",
   "id": "8c5aa5e3",
   "metadata": {},
   "source": [
    "Input:\n",
    "\n",
    "The graph data\n",
    "A node (hero or comic)\n",
    "One of the given metrics : Betweeness 1, PageRank, ClosenessCentrality 3, DegreeCentrality\n",
    "N: denoting the top N heroes that their data should be considered\n",
    "\n",
    "Output:\n",
    "\n",
    "The metric's value over the considered graph\n",
    "The given node's value\n",
    "\n",
    "Note: Give an explanation regarding the features of the user based on all of the metrics (e.g. if the betweenness metric is high, what does this mean in practice, what if the betweenness is low but has a high PageRank value, etc.)."
   ]
  },
  {
   "cell_type": "code",
   "execution_count": null,
   "id": "c55295da",
   "metadata": {},
   "outputs": [],
   "source": []
  },
  {
   "cell_type": "markdown",
   "id": "3f375450",
   "metadata": {},
   "source": [
    "## 3. Frontend Implementation"
   ]
  },
  {
   "cell_type": "code",
   "execution_count": null,
   "id": "30a4d0b0",
   "metadata": {},
   "outputs": [],
   "source": [
    "#In the visualization part, you can use any available function (networkx functions are highly recommended)."
   ]
  },
  {
   "cell_type": "markdown",
   "id": "16d6182f",
   "metadata": {},
   "source": [
    "### Visualization 1 - Visualize some features of the network"
   ]
  },
  {
   "cell_type": "raw",
   "id": "85b195f3",
   "metadata": {},
   "source": [
    "We anticipate seeing the Functionality 1 report in Visualization 1. To be more specific, we expect you to have the following report format:\n",
    "\n",
    "A table containing the following general information about the graph:\n",
    "\n",
    "Number of nodes in the network\n",
    "Density of the network\n",
    "Average degree of the network\n",
    "Whether the network is sparse or dense\n",
    "A table that lists the network's hubs\n",
    "\n",
    "A plot depicting the number of collaborations of each hero in descending order (if the graph is type 1)\n",
    "\n",
    "A plot depicting the number of heroes who appeared in each comic, sorted in descending order (if the graph is type 2)\n",
    "\n",
    "A plot depicting the degree distribution of the network\n",
    "\n",
    "Note: You can do the plot on a limited number of heroes/comic books to have a better visualization for the charts that ask for some insights about all of the comics/heroes (e.g. for the first 50)"
   ]
  },
  {
   "cell_type": "code",
   "execution_count": 251,
   "id": "f97ec6e2",
   "metadata": {},
   "outputs": [],
   "source": [
    "result1=func1(G1,1,10)"
   ]
  },
  {
   "cell_type": "code",
   "execution_count": 258,
   "id": "17922113",
   "metadata": {},
   "outputs": [
    {
     "data": {
      "image/png": "[encoded data removed]",
      "text/plain": [
       "<Figure size 2000x300 with 1 Axes>"
      ]
     },
     "metadata": {},
     "output_type": "display_data"
    }
   ],
   "source": [
    "table1 = [[result1[\"numOfNodes\"], result1[\"density\"], result1[\"averageDegreeofNetwork\"], result1[\"sparseOrDense\"]]]\n",
    "\n",
    "table = plt.table(cellText=table1, colLabels=['numOfNodes', 'density', 'averageDegreeofNetwork', 'sparseOrDense'], loc='center',  cellLoc='center')\n",
    "\n",
    "plt.title('Visualization 1 for Graph 1 ')\n",
    "plt.axis('off')\n",
    "plt.show()"
   ]
  },
  {
   "cell_type": "code",
   "execution_count": 264,
   "id": "d0b68922",
   "metadata": {},
   "outputs": [
    {
     "data": {
      "image/png": "[encoded data removed]",
      "text/plain": [
       "<Figure size 2000x300 with 1 Axes>"
      ]
     },
     "metadata": {},
     "output_type": "display_data"
    },
    {
     "data": {
      "text/plain": [
       "[[[\"BLACK PANTHER/T'CHAL\",\n",
       "   'IRON MAN/TONY STARK',\n",
       "   'IRON MAN IV/JAMES R.',\n",
       "   'ROM, SPACEKNIGHT',\n",
       "   'MYSTIQUE/RAVEN DARKH',\n",
       "   'BLOB/FRED J. DUKES',\n",
       "   'TORPEDO III/BROCK JO',\n",
       "   'PYRO/ALLERDYCE JOHNN',\n",
       "   'AVALANCHE/DOMINIC PE',\n",
       "   'ROGUE ',\n",
       "   'DESTINY II/IRENE ADL',\n",
       "   'SUB-MARINER/NAMOR MA',\n",
       "   'VASHTI',\n",
       "   'NOVA/RICHARD RIDER',\n",
       "   'FIRESTAR/ANGELICA JO',\n",
       "   'THUNDERBALL/DR. ELIO',\n",
       "   'NAMORITA/NITA PRENTI',\n",
       "   'SPEEDBALL/ROBBIE BAL',\n",
       "   'HULK/DR. ROBERT BRUC',\n",
       "   'NIGHT THRASHER/DUANE',\n",
       "   'SPIDER-MAN/PETER PARKER',\n",
       "   'JUSTICE II/VANCE AST',\n",
       "   'TIGRA/GREER NELSON',\n",
       "   'WASP/JANET VAN DYNE',\n",
       "   'GALACTUS/GALAN',\n",
       "   'MOCKINGBIRD/DR. BARB',\n",
       "   'SILVER SURFER/NORRIN',\n",
       "   'HAWK',\n",
       "   'SCARLET WITCH/WANDA',\n",
       "   'QUICKSILVER/PIETRO M',\n",
       "   'UATU',\n",
       "   'CAPTAIN AMERICA',\n",
       "   'THUNDERSTRIKE/ERIC K',\n",
       "   'WONDER MAN/SIMON WIL',\n",
       "   'WOLVERINE/LOGAN',\n",
       "   'SHE-HULK/JENNIFER WA',\n",
       "   'VISION',\n",
       "   'PSYLOCKE/ELISABETH B',\n",
       "   'MARVEL GIRL/JEAN GRE',\n",
       "   'STORM/ORORO MUNROE S',\n",
       "   'ETERNITY/ADAM QADMON',\n",
       "   \"KISMET/J'RIDIA STARD\",\n",
       "   'MR. FANTASTIC/REED R',\n",
       "   'ANGEL/WARREN KENNETH',\n",
       "   'DEATH',\n",
       "   'JUBILEE/JUBILATION L',\n",
       "   'THING/BENJAMIN J. GR',\n",
       "   'INVISIBLE WOMAN/SUE',\n",
       "   'PUNISHER II/FRANK CA',\n",
       "   'BEAST/HENRY &HANK& P',\n",
       "   'GHOST RIDER III/DAN',\n",
       "   'CYCLOPS/SCOTT SUMMER',\n",
       "   'HOGAN, VIRGINIA PEPP',\n",
       "   'HOGAN, HAROLD J. HAP',\n",
       "   'CARTER, SHARON',\n",
       "   'HEIMDALL [ASGARDIAN]',\n",
       "   'ENCHANTRESS/AMORA/HE',\n",
       "   'LOKI [ASGARDIAN]',\n",
       "   'THOR/DR. DONALD BLAK',\n",
       "   'SPIDER-WOMAN II/JULI',\n",
       "   'COOPER, DR. VALERIE',\n",
       "   'DR. STRANGE/STEPHEN',\n",
       "   'HELLCAT/PATSY WALKER',\n",
       "   'NIGHTHAWK II/KYLE RI',\n",
       "   'NORRISS, SISTER BARB',\n",
       "   'BANNER, BETTY ROSS T',\n",
       "   'ROSS, GEN. THADDEUS',\n",
       "   'GORGON [INHUMAN]',\n",
       "   'LOCKJAW [INHUMAN]',\n",
       "   'CRYSTAL [INHUMAN]',\n",
       "   'BLACK BOLT/BLACKANTO',\n",
       "   'TRITON',\n",
       "   'KARNAK [INHUMAN]',\n",
       "   'WARLOCK II/ADAM WARL',\n",
       "   'RHINO',\n",
       "   'JUGGERNAUT/CAIN MARK',\n",
       "   'PROFESSOR X/CHARLES',\n",
       "   'CORBEAU, DR. PETER',\n",
       "   'PARKER, MAY',\n",
       "   'ROBERTSON, JOE',\n",
       "   'LEEDS, BETTY BRANT',\n",
       "   'KINGPIN/WILSON FISK',\n",
       "   'WATSON-PARKER, MARY',\n",
       "   'WATSON, ANNA',\n",
       "   'MACHINE MAN/X-51',\n",
       "   'JOCASTA',\n",
       "   'JAMESON, J. JONAH',\n",
       "   'URICH, BEN',\n",
       "   'ICEMAN/ROBERT BOBBY',\n",
       "   'THOMPSON, EUGENE FLA',\n",
       "   'GRANT, GLORIA GLORY',\n",
       "   'GARGOYLE II/ISAAC CH',\n",
       "   'MOONDRAGON/HEATHER D',\n",
       "   'HUMAN TORCH/JOHNNY S',\n",
       "   'BEYONDER',\n",
       "   'DR. OCTOPUS/OTTO OCT',\n",
       "   'MISTER HYDE/CALVIN Z',\n",
       "   'COBRA/KLAUS VORHEES',\n",
       "   'HAVOK/ALEX SUMMERS',\n",
       "   'DAZZLER II/ALLISON B',\n",
       "   'LONGSHOT',\n",
       "   'SUMMERS, MADELYNE MA',\n",
       "   'COLOSSUS II/PETER RA',\n",
       "   'SUMMERS, NATHAN CHRI',\n",
       "   'POLARIS/LORNA DANE',\n",
       "   'TILBY, TRISH/PATRICI',\n",
       "   'WOLFSBANE/RAHNE SINC',\n",
       "   'WARLOCK III',\n",
       "   'SUNSPOT/ROBERTO DACO',\n",
       "   'MAGIK/ILLYANA RASPUT',\n",
       "   'MAGNETO/MAGNUS/ERIC',\n",
       "   'CANNONBALL II/SAM GU',\n",
       "   'MIRAGE II/DANIELLE M',\n",
       "   'CAGE, LUKE/CARL LUCA',\n",
       "   'JARVIS, EDWIN',\n",
       "   'GHOST RIDER II/JOHNN',\n",
       "   'ANT-MAN/DR. HENRY J.',\n",
       "   'STANKOWICZ, FABIAN',\n",
       "   'HERCULES [GREEK GOD]',\n",
       "   'BLACK WIDOW/NATASHA',\n",
       "   'MOON KNIGHT/MARC SPE',\n",
       "   'DRAX/ARTHUR DOUGLAS',\n",
       "   'SPIDER-MAN CLONE/BEN',\n",
       "   'GEE/ALEX POWER',\n",
       "   'TURBO II (A)/MICHIKO',\n",
       "   'BLACK CAT/FELICIA HA',\n",
       "   'SILVER SABLE',\n",
       "   'SANDMAN/WILLIAM BAKE',\n",
       "   'VOLSTAGG',\n",
       "   'HOGUN [ASGARDIAN]',\n",
       "   'FANDRAL [ASGARDIAN]',\n",
       "   'ODIN [ASGARDIAN]',\n",
       "   'DOMINO III/BEATRICE',\n",
       "   'HYDROMAN/MORRIE BENC',\n",
       "   'VULTURE/ADRIAN TOOME',\n",
       "   'OSBORN, HARRY',\n",
       "   'GREEN GOBLIN/NORMAN',\n",
       "   'OSBORN, LIZ ALLAN',\n",
       "   'GLADIATOR II',\n",
       "   'RICHARDS, FRANKLIN B',\n",
       "   'WONG',\n",
       "   'CLEA',\n",
       "   'DAREDEVIL/MATT MURDO',\n",
       "   'MASTERS, ALICIA REIS',\n",
       "   'DR. DRUID/ANTHONY LU',\n",
       "   'PIP/PRINCE GOFERN',\n",
       "   'GAMORA',\n",
       "   'DR. DOOM/VICTOR VON',\n",
       "   'HELA [ASGARDIAN]',\n",
       "   'FIRELORD/PYREUS KRIL',\n",
       "   'THANOS',\n",
       "   'MEPHISTO',\n",
       "   'THINKER',\n",
       "   'JAMESON, MARLA MADIS',\n",
       "   'PUPPET MASTER/PHILLI',\n",
       "   'BANSHEE/SEAN CASSIDY',\n",
       "   'HUMAN TORCH ANDROID',\n",
       "   'WHIZZER/ROBERT L. FR',\n",
       "   'RED SKULL/JOHANN SCH',\n",
       "   'BARON STRUCKER/WOLFG',\n",
       "   'MOLE MAN/HARVEY RUPE',\n",
       "   'MAKKARI/MIKE KHARY/I',\n",
       "   'CLOAK/TYRONE JOHNSON',\n",
       "   'DAGGER/TANDY BOWEN',\n",
       "   'STARFOX/EROS',\n",
       "   'MANDARIN',\n",
       "   'SIF',\n",
       "   'KINCAID, DR. JANE FO',\n",
       "   'FURY, COL. NICHOLAS',\n",
       "   'MASTER MOLD II',\n",
       "   'BRIDGE, GEORGE WASHI',\n",
       "   'KLAW/ULYSSES KLAW',\n",
       "   'LYJA LAZERFIST [SKRU',\n",
       "   'ANT-MAN II/SCOTT HAR',\n",
       "   'SITWELL, JASPER',\n",
       "   'KA-ZAR/KEVIN PLUNDER',\n",
       "   'ZABU',\n",
       "   \"SHANNA/SHANNA O'HARA\",\n",
       "   'DAYTRIPPER/AMANDA SE',\n",
       "   'NIGHTCRAWLER/KURT WA',\n",
       "   'GAMBIT/REMY LEBEAU',\n",
       "   'FORGE',\n",
       "   'BISHOP ',\n",
       "   'QUASAR III/WENDELL V',\n",
       "   'BALLANTINE, KAYLA',\n",
       "   'JACK OF HEARTS/JACK',\n",
       "   'CAPTAIN MARVEL II/MO',\n",
       "   'CAPTAIN BRITAIN/BRIA',\n",
       "   'USAGENT/CAPTAIN JOHN',\n",
       "   'MEGGAN',\n",
       "   'PHOENIX III/RACHEL S',\n",
       "   'NOVA II/FRANKIE RAYE',\n",
       "   'SUPREME INTELLIGENCE',\n",
       "   'BOOMERANG/FRED MYERS',\n",
       "   'JONES, RICHARD MILHO',\n",
       "   'PAGE, KAREN',\n",
       "   'NELSON, FRANKLIN FOG',\n",
       "   'SHADOWCAT/KATHERINE',\n",
       "   'LOCKHEED',\n",
       "   'DUGAN, TIMOTHY ALOYI',\n",
       "   'BINARY/CAROL DANVERS',\n",
       "   'GYRICH, HENRY PETER',\n",
       "   'CAPTAIN MARVEL/CAPTA',\n",
       "   'ZEUS',\n",
       "   'DE LA FONTAINE, CONT',\n",
       "   'JONES, GABE',\n",
       "   'MS. MARVEL II/SHARON',\n",
       "   'BLACK KNIGHT V/DANE',\n",
       "   'APOCALYPSE/EN SABAH',\n",
       "   'PHARAOH RAMA-TUT',\n",
       "   'BALDER [ASGARDIAN]',\n",
       "   'HELLSTORM/DAIMON HEL',\n",
       "   'TRAPSTER/PETER PETRU',\n",
       "   'TRIATHLON/DELROY GAR',\n",
       "   'CARGIL/JOANNA CARGIL',\n",
       "   'JAMESON, COL. JOHN',\n",
       "   'NOMAD III/JACK MONRO',\n",
       "   'FALCON/SAM WILSON',\n",
       "   'CONSTRICTOR/FRANK PA',\n",
       "   'BETA RAY BILL',\n",
       "   'SHAMAN/MICHAEL TWOYO',\n",
       "   'COUNTERWEIGHT/JACK P',\n",
       "   'LIGHTSPEED/JULIE POW',\n",
       "   'COUNTERWEIGHT II/KAT',\n",
       "   'ABSORBING MAN/CARL C',\n",
       "   'DOC SAMSON/DR. LEONA',\n",
       "   'SUNFIRE/SHIRO YOSHID',\n",
       "   'STRONG GUY/GUIDO CAR',\n",
       "   'HUDSON, HEATHER',\n",
       "   'SASQUATCH/WALTER LAN',\n",
       "   'HARKNESS, AGATHA',\n",
       "   'MAGUS',\n",
       "   'HIGH EVOLUTIONARY/HE',\n",
       "   'MACTAGGERT, MOIRA KI',\n",
       "   'HOBGOBLIN V/JASON PH',\n",
       "   'ELECTRO/MAX DILLON',\n",
       "   'CITIZEN V III/DALLAS',\n",
       "   'FIXER II/PAUL NORBER',\n",
       "   'CITIZEN V II/HELMUT',\n",
       "   'MARROW/SARAH',\n",
       "   'CALLISTO',\n",
       "   'REDWING',\n",
       "   'DIAMONDBACK II/RACHE',\n",
       "   'KNIGHT, MISTY',\n",
       "   'IRON FIST/DANIEL RAN',\n",
       "   'POWER MAN/ERIK JOSTE',\n",
       "   'MULTIPLE MAN/JAMES A',\n",
       "   'WHIPLASH/MARK SCARLO',\n",
       "   'DEADPOOL/JACK/WADE W',\n",
       "   'DARKHAWK/CHRIS POWEL',\n",
       "   'LIVING LIGHTNING/MIG',\n",
       "   'RAGE/ELVIN DARYL HAL',\n",
       "   'SERSI/SYLVIA',\n",
       "   'MEDUSA/MEDUSALITH AM',\n",
       "   'EXECUTIONER II/SKURG',\n",
       "   'FIREFIST/RUSTY COLLI',\n",
       "   'VIPER II',\n",
       "   'WIZARD/BENTLEY WITTM',\n",
       "   'MOONSTONE II/KARLA S',\n",
       "   'BEETLE/ABNER RONALD',\n",
       "   'TIGER SHARK/TODD ARL',\n",
       "   \"O'BRIEN, MICHAEL\",\n",
       "   'LUNA/LUNA MAXIMOFF [',\n",
       "   'CALIBAN',\n",
       "   'MAGMA/AMARA AQUILLA',\n",
       "   'WHIRLWIND/DAVID CANN',\n",
       "   'STINGRAY/DR. WALTER',\n",
       "   'FIREBIRD/BONITA JUAR',\n",
       "   'WEREWOLF BY NIGHT/JA',\n",
       "   'TOAD/MORTIMER TOYNBE',\n",
       "   'KELLY, SEN. ROBERT E',\n",
       "   'BLACK KING/SEBASTIAN',\n",
       "   'SPIRAL',\n",
       "   'AURORA/JEANNE-MARIE',\n",
       "   'PUCK/EUGENE MILTON J',\n",
       "   'NORTHSTAR/JEAN-PAUL',\n",
       "   'SNOWBIRD/NARYA/ANNE',\n",
       "   'LILANDRA NERAMANI [S',\n",
       "   'SCREAMING MIMI/MELIS',\n",
       "   'THUNDERBIRD II/JAMES',\n",
       "   'CARTER, PEGGY',\n",
       "   \"DEATHBIRD [SHI'AR]\",\n",
       "   'LUMPKIN, WILLIAM WIL',\n",
       "   'WHITE QUEEN/EMMA FRO',\n",
       "   'MIKHLO',\n",
       "   'IGOR',\n",
       "   'PEATOR',\n",
       "   'RED GHOST/IVAN KRAGO',\n",
       "   'ATTUMA',\n",
       "   'SHATTERSTAR II/GAVEE',\n",
       "   'CYPHER/DOUG RAMSEY',\n",
       "   'BOOMER/TABITHA SMITH',\n",
       "   'RICTOR/JULIO ESTEBAN',\n",
       "   'SIRYN/THERESA ROURKE',\n",
       "   'WING, COLLEEN',\n",
       "   'SPIDER-WOMAN/JESSICA',\n",
       "   'DARKSTAR/LAYNIA SERG',\n",
       "   'VANGUARD/NICOLAI KRY',\n",
       "   'X-MAN/NATHAN GREY',\n",
       "   'WRECKER III/DIRK GAR',\n",
       "   'HUSK/PAIGE GUTHRIE',\n",
       "   'SKIN/ANGELO ESPINOSA',\n",
       "   'SYNCH/EVERETT THOMAS',\n",
       "   'PALADIN/PAUL DENNIS',\n",
       "   'GRANDMASTER/EN DWI G',\n",
       "   'IKARIS/IKE HARRIS [E',\n",
       "   'THENA',\n",
       "   'JOLT/HALLIE TAKAHAMA',\n",
       "   'CHARCOAL/CHARLIE BUR',\n",
       "   'TITANIA II/MARY SKEE',\n",
       "   'SABRETOOTH/VICTOR CR',\n",
       "   'SABRA/RUTH BAT-SERAP',\n",
       "   'WILD CHILD/KYLE GIBN',\n",
       "   'CORSAIR',\n",
       "   'GUARDIAN/JAMES MACDO',\n",
       "   'AJAK/TECUMOTZIN [ETE',\n",
       "   'SILHOUETTE',\n",
       "   'MADDICKS, ARTHUR ART',\n",
       "   'CHAMBER/JONOTHON STA',\n",
       "   'LEECH']]]"
      ]
     },
     "execution_count": 264,
     "metadata": {},
     "output_type": "execute_result"
    }
   ],
   "source": [
    "table2 = [[result1[\"networksHubs\"]]]\n",
    "\n",
    "table = plt.table(cellText=table2, colLabels=['networksHubs'], loc='center', cellLoc='center')\n",
    "\n",
    "plt.title('networksHubs visualization')\n",
    "plt.axis('off')\n",
    "plt.show()\n",
    "\n",
    "table2"
   ]
  },
  {
   "cell_type": "code",
   "execution_count": null,
   "id": "57c0a7ec",
   "metadata": {},
   "outputs": [],
   "source": []
  },
  {
   "cell_type": "code",
   "execution_count": null,
   "id": "a7afe098",
   "metadata": {},
   "outputs": [],
   "source": []
  },
  {
   "cell_type": "markdown",
   "id": "df181145",
   "metadata": {},
   "source": [
    "### Visualization 2 - Visualize centrality measure"
   ]
  },
  {
   "cell_type": "code",
   "execution_count": null,
   "id": "55a6339b",
   "metadata": {},
   "outputs": [],
   "source": []
  }
 ],
 "metadata": {
  "kernelspec": {
   "display_name": "Python 3 (ipykernel)",
   "language": "python",
   "name": "python3"
  },
  "language_info": {
   "codemirror_mode": {
    "name": "ipython",
    "version": 3
   },
   "file_extension": ".py",
   "mimetype": "text/x-python",
   "name": "python",
   "nbconvert_exporter": "python",
   "pygments_lexer": "ipython3",
   "version": "3.9.13"
  }
 },
 "nbformat": 4,
 "nbformat_minor": 5
}
